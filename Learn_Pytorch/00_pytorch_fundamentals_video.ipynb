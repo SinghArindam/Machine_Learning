{
 "cells": [
  {
   "cell_type": "code",
   "execution_count": 1,
   "id": "4cc5fd35",
   "metadata": {},
   "outputs": [
    {
     "name": "stdout",
     "output_type": "stream",
     "text": [
      "Hello\n"
     ]
    }
   ],
   "source": [
    "print(\"Hello\")"
   ]
  },
  {
   "cell_type": "code",
   "execution_count": 2,
   "id": "36773710",
   "metadata": {},
   "outputs": [
    {
     "name": "stdout",
     "output_type": "stream",
     "text": [
      "2.5.0+cpu\n"
     ]
    }
   ],
   "source": [
    "import torch\n",
    "import pandas as pd\n",
    "import numpy as np\n",
    "import matplotlib.pyplot as plt\n",
    "print(torch.__version__)"
   ]
  },
  {
   "cell_type": "code",
   "execution_count": 3,
   "id": "ca8caa0a",
   "metadata": {},
   "outputs": [],
   "source": [
    "## Introduction to tensors\n",
    "# Creating tensors"
   ]
  },
  {
   "cell_type": "code",
   "execution_count": 4,
   "id": "3d53cc34",
   "metadata": {},
   "outputs": [
    {
     "data": {
      "text/plain": [
       "tensor(7)"
      ]
     },
     "execution_count": 4,
     "metadata": {},
     "output_type": "execute_result"
    }
   ],
   "source": [
    "scalar = torch.tensor(7)\n",
    "scalar"
   ]
  },
  {
   "cell_type": "code",
   "execution_count": 5,
   "id": "b0e043fb",
   "metadata": {},
   "outputs": [
    {
     "data": {
      "text/plain": [
       "tensor([7, 7])"
      ]
     },
     "execution_count": 5,
     "metadata": {},
     "output_type": "execute_result"
    }
   ],
   "source": [
    "vector = torch.tensor([7,7])\n",
    "vector"
   ]
  },
  {
   "cell_type": "code",
   "execution_count": 6,
   "id": "967a6e6b",
   "metadata": {},
   "outputs": [
    {
     "data": {
      "text/plain": [
       "1"
      ]
     },
     "execution_count": 6,
     "metadata": {},
     "output_type": "execute_result"
    }
   ],
   "source": [
    "vector.ndim\n"
   ]
  },
  {
   "cell_type": "code",
   "execution_count": 7,
   "id": "45288dd0",
   "metadata": {},
   "outputs": [
    {
     "data": {
      "text/plain": [
       "torch.Size([2])"
      ]
     },
     "execution_count": 7,
     "metadata": {},
     "output_type": "execute_result"
    }
   ],
   "source": [
    "vector.shape"
   ]
  },
  {
   "cell_type": "code",
   "execution_count": 8,
   "id": "5e129a55",
   "metadata": {},
   "outputs": [
    {
     "data": {
      "text/plain": [
       "tensor([[ 7,  8],\n",
       "        [ 9, 10]])"
      ]
     },
     "execution_count": 8,
     "metadata": {},
     "output_type": "execute_result"
    }
   ],
   "source": [
    "# Matrix\n",
    "MATRIX = torch.tensor([[7,8],\n",
    "                      [9,10]])\n",
    "MATRIX"
   ]
  },
  {
   "cell_type": "code",
   "execution_count": 9,
   "id": "3ffc3ae2",
   "metadata": {},
   "outputs": [
    {
     "data": {
      "text/plain": [
       "2"
      ]
     },
     "execution_count": 9,
     "metadata": {},
     "output_type": "execute_result"
    }
   ],
   "source": [
    "MATRIX.ndim\n"
   ]
  },
  {
   "cell_type": "code",
   "execution_count": 10,
   "id": "9ac3a9e9",
   "metadata": {},
   "outputs": [
    {
     "data": {
      "text/plain": [
       "torch.Size([2, 2])"
      ]
     },
     "execution_count": 10,
     "metadata": {},
     "output_type": "execute_result"
    }
   ],
   "source": [
    "MATRIX.shape"
   ]
  },
  {
   "cell_type": "code",
   "execution_count": 11,
   "id": "eff0bbf4",
   "metadata": {},
   "outputs": [
    {
     "data": {
      "text/plain": [
       "tensor([[[1, 2, 3],\n",
       "         [3, 6, 9],\n",
       "         [2, 4, 5]]])"
      ]
     },
     "execution_count": 11,
     "metadata": {},
     "output_type": "execute_result"
    }
   ],
   "source": [
    "TENSOR = torch.tensor([[[1, 2, 3],\n",
    "                       [3, 6, 9],\n",
    "                      [2,4,5]]])\n",
    "TENSOR"
   ]
  },
  {
   "cell_type": "code",
   "execution_count": 12,
   "id": "f2c22e65",
   "metadata": {},
   "outputs": [
    {
     "data": {
      "text/plain": [
       "3"
      ]
     },
     "execution_count": 12,
     "metadata": {},
     "output_type": "execute_result"
    }
   ],
   "source": [
    "TENSOR.ndim"
   ]
  },
  {
   "cell_type": "code",
   "execution_count": 13,
   "id": "c4ba890c",
   "metadata": {},
   "outputs": [
    {
     "data": {
      "text/plain": [
       "torch.Size([1, 3, 3])"
      ]
     },
     "execution_count": 13,
     "metadata": {},
     "output_type": "execute_result"
    }
   ],
   "source": [
    "TENSOR.shape"
   ]
  },
  {
   "cell_type": "code",
   "execution_count": 14,
   "id": "af950ef4",
   "metadata": {},
   "outputs": [
    {
     "data": {
      "text/plain": [
       "tensor([[1, 2, 3],\n",
       "        [3, 6, 9],\n",
       "        [2, 4, 5]])"
      ]
     },
     "execution_count": 14,
     "metadata": {},
     "output_type": "execute_result"
    }
   ],
   "source": [
    "TENSOR[0]"
   ]
  },
  {
   "cell_type": "code",
   "execution_count": 15,
   "id": "01ba61cd",
   "metadata": {},
   "outputs": [],
   "source": [
    "### Random tensors"
   ]
  },
  {
   "cell_type": "code",
   "execution_count": 16,
   "id": "6b08ddcb",
   "metadata": {},
   "outputs": [
    {
     "data": {
      "text/plain": [
       "tensor([[0.5686, 0.3137, 0.9694, 0.4988],\n",
       "        [0.4192, 0.8981, 0.1091, 0.7285],\n",
       "        [0.3785, 0.2914, 0.3298, 0.9968]])"
      ]
     },
     "execution_count": 16,
     "metadata": {},
     "output_type": "execute_result"
    }
   ],
   "source": [
    "# Create a random tensor\n",
    "random_tensor = torch.rand(3,4)\n",
    "random_tensor"
   ]
  },
  {
   "cell_type": "raw",
   "id": "50439350",
   "metadata": {},
   "source": []
  },
  {
   "cell_type": "raw",
   "id": "f059765a",
   "metadata": {},
   "source": [
    "# random image size tensors\n",
    "random_img_size_tensor = torch.rand(size=(224,224,3)) # height width color_channels\n",
    "random_img_size_tensor.shape, random_img_size_tensor.ndim"
   ]
  },
  {
   "cell_type": "code",
   "execution_count": 17,
   "id": "b6b7ffd8",
   "metadata": {},
   "outputs": [
    {
     "data": {
      "text/plain": [
       "(torch.Size([224, 224, 3]), 3)"
      ]
     },
     "execution_count": 17,
     "metadata": {},
     "output_type": "execute_result"
    }
   ],
   "source": [
    "# random image size tensors\n",
    "random_img_size_tensor = torch.rand(size=(224,224,3)) # height width color_channels\n",
    "random_img_size_tensor.shape, random_img_size_tensor.ndim"
   ]
  },
  {
   "cell_type": "code",
   "execution_count": 18,
   "id": "ffc91244",
   "metadata": {},
   "outputs": [
    {
     "data": {
      "text/plain": [
       "tensor([[[0.7259, 0.5428, 0.4092],\n",
       "         [0.6216, 0.1662, 0.2609],\n",
       "         [0.0080, 0.4469, 0.0758],\n",
       "         ...,\n",
       "         [0.9292, 0.5836, 0.5416],\n",
       "         [0.1612, 0.8458, 0.8983],\n",
       "         [0.0613, 0.8989, 0.0983]],\n",
       "\n",
       "        [[0.4310, 0.8107, 0.2160],\n",
       "         [0.1925, 0.0668, 0.8988],\n",
       "         [0.6877, 0.3230, 0.6250],\n",
       "         ...,\n",
       "         [0.3374, 0.9607, 0.7135],\n",
       "         [0.6001, 0.4154, 0.8877],\n",
       "         [0.4666, 0.2790, 0.8497]],\n",
       "\n",
       "        [[0.6517, 0.0350, 0.1926],\n",
       "         [0.0109, 0.8832, 0.6167],\n",
       "         [0.2875, 0.3147, 0.1774],\n",
       "         ...,\n",
       "         [0.7779, 0.6886, 0.4072],\n",
       "         [0.4727, 0.9365, 0.1512],\n",
       "         [0.0779, 0.1083, 0.4837]],\n",
       "\n",
       "        ...,\n",
       "\n",
       "        [[0.8747, 0.8680, 0.6037],\n",
       "         [0.4093, 0.2172, 0.5673],\n",
       "         [0.4641, 0.4042, 0.7442],\n",
       "         ...,\n",
       "         [0.9997, 0.1336, 0.4564],\n",
       "         [0.1659, 0.0829, 0.8693],\n",
       "         [0.1980, 0.4047, 0.1034]],\n",
       "\n",
       "        [[0.9223, 0.8364, 0.3618],\n",
       "         [0.4804, 0.9595, 0.9412],\n",
       "         [0.0126, 0.9872, 0.4394],\n",
       "         ...,\n",
       "         [0.0716, 0.4123, 0.6961],\n",
       "         [0.4870, 0.3071, 0.5887],\n",
       "         [0.9901, 0.9038, 0.4188]],\n",
       "\n",
       "        [[0.6548, 0.2264, 0.2666],\n",
       "         [0.5176, 0.3996, 0.3106],\n",
       "         [0.7924, 0.7867, 0.5547],\n",
       "         ...,\n",
       "         [0.5954, 0.5658, 0.1238],\n",
       "         [0.2488, 0.1235, 0.5368],\n",
       "         [0.4666, 0.5635, 0.3895]]])"
      ]
     },
     "execution_count": 18,
     "metadata": {},
     "output_type": "execute_result"
    }
   ],
   "source": [
    "# random image size tensors\n",
    "random_img_size_tensor"
   ]
  },
  {
   "cell_type": "code",
   "execution_count": 19,
   "id": "cd84c54c",
   "metadata": {},
   "outputs": [
    {
     "data": {
      "text/plain": [
       "tensor([[0., 0., 0., 0.],\n",
       "        [0., 0., 0., 0.],\n",
       "        [0., 0., 0., 0.]])"
      ]
     },
     "execution_count": 19,
     "metadata": {},
     "output_type": "execute_result"
    }
   ],
   "source": [
    "# create tensors of all zeroes\n",
    "zeros = torch.zeros(size=(3,4))\n",
    "zeros"
   ]
  },
  {
   "cell_type": "code",
   "execution_count": 20,
   "id": "27ed63c2",
   "metadata": {},
   "outputs": [
    {
     "data": {
      "text/plain": [
       "tensor([[1., 1., 1., 1.],\n",
       "        [1., 1., 1., 1.],\n",
       "        [1., 1., 1., 1.]])"
      ]
     },
     "execution_count": 20,
     "metadata": {},
     "output_type": "execute_result"
    }
   ],
   "source": [
    "# create tensors of all ones\n",
    "ones = torch.ones(size=(3,4))\n",
    "ones"
   ]
  },
  {
   "cell_type": "code",
   "execution_count": 21,
   "id": "5e3104b3",
   "metadata": {},
   "outputs": [
    {
     "data": {
      "text/plain": [
       "torch.float32"
      ]
     },
     "execution_count": 21,
     "metadata": {},
     "output_type": "execute_result"
    }
   ],
   "source": [
    "ones.dtype\n"
   ]
  },
  {
   "cell_type": "code",
   "execution_count": 22,
   "id": "4177e28b",
   "metadata": {},
   "outputs": [
    {
     "name": "stderr",
     "output_type": "stream",
     "text": [
      "C:\\Users\\hp\\AppData\\Local\\Temp\\ipykernel_12156\\1265344515.py:2: UserWarning: torch.range is deprecated and will be removed in a future release because its behavior is inconsistent with Python's range builtin. Instead, use torch.arange, which produces values in [start, end).\n",
      "  torch.range(0,10)\n"
     ]
    },
    {
     "data": {
      "text/plain": [
       "tensor([ 0.,  1.,  2.,  3.,  4.,  5.,  6.,  7.,  8.,  9., 10.])"
      ]
     },
     "execution_count": 22,
     "metadata": {},
     "output_type": "execute_result"
    }
   ],
   "source": [
    "# torch.range()\n",
    "torch.range(0,10)"
   ]
  },
  {
   "cell_type": "code",
   "execution_count": 23,
   "id": "dbcc90e8",
   "metadata": {},
   "outputs": [
    {
     "data": {
      "text/plain": [
       "tensor([  0,  77, 154, 231, 308, 385, 462, 539, 616, 693, 770, 847, 924])"
      ]
     },
     "execution_count": 23,
     "metadata": {},
     "output_type": "execute_result"
    }
   ],
   "source": [
    "torch.arange(0,1000,77)"
   ]
  },
  {
   "cell_type": "code",
   "execution_count": 24,
   "id": "0ca94e7b",
   "metadata": {},
   "outputs": [
    {
     "data": {
      "text/plain": [
       "tensor([ 1,  2,  3,  4,  5,  6,  7,  8,  9, 10])"
      ]
     },
     "execution_count": 24,
     "metadata": {},
     "output_type": "execute_result"
    }
   ],
   "source": [
    "# for same shape - tensor-like\n",
    "one_to_ten = torch.arange(1,11,1)\n",
    "one_to_ten"
   ]
  },
  {
   "cell_type": "code",
   "execution_count": 25,
   "id": "97fd176e",
   "metadata": {},
   "outputs": [
    {
     "data": {
      "text/plain": [
       "tensor([0, 0, 0, 0, 0, 0, 0, 0, 0, 0])"
      ]
     },
     "execution_count": 25,
     "metadata": {},
     "output_type": "execute_result"
    }
   ],
   "source": [
    "ten_zeroes = torch.zeros_like(one_to_ten)\n",
    "ten_zeroes"
   ]
  },
  {
   "cell_type": "code",
   "execution_count": 26,
   "id": "16f42db5",
   "metadata": {},
   "outputs": [
    {
     "data": {
      "text/plain": [
       "tensor([3., 6., 9.])"
      ]
     },
     "execution_count": 26,
     "metadata": {},
     "output_type": "execute_result"
    }
   ],
   "source": [
    "### Data Types\n",
    "float32_dataType = torch.tensor([3.0,6.0,9.0],\n",
    "                                 dtype=None,\n",
    "                                 device=None,\n",
    "                                 requires_grad=False)\n",
    "float32_dataType"
   ]
  },
  {
   "cell_type": "code",
   "execution_count": 27,
   "id": "b0a777d1",
   "metadata": {},
   "outputs": [
    {
     "data": {
      "text/plain": [
       "torch.float32"
      ]
     },
     "execution_count": 27,
     "metadata": {},
     "output_type": "execute_result"
    }
   ],
   "source": [
    "float32_dataType.dtype"
   ]
  },
  {
   "cell_type": "code",
   "execution_count": 29,
   "id": "4a0c9d16",
   "metadata": {},
   "outputs": [],
   "source": [
    "## tensor data types are the 3 major reasons of error in pytorch and deep learning\n",
    "# 1 tensor not right datatype\n",
    "# 2 tensor not right shape\n",
    "# 3 tensors are not on the right device\n"
   ]
  },
  {
   "cell_type": "code",
   "execution_count": 30,
   "id": "9db54b77",
   "metadata": {},
   "outputs": [
    {
     "data": {
      "text/plain": [
       "tensor([3., 6., 9.], dtype=torch.float16)"
      ]
     },
     "execution_count": 30,
     "metadata": {},
     "output_type": "execute_result"
    }
   ],
   "source": [
    "float16_dataType_tensor = float32_dataType.type(torch.float16)\n",
    "float16_dataType_tensor"
   ]
  },
  {
   "cell_type": "code",
   "execution_count": 31,
   "id": "2f5ce8a9",
   "metadata": {},
   "outputs": [
    {
     "data": {
      "text/plain": [
       "tensor([ 9., 36., 81.])"
      ]
     },
     "execution_count": 31,
     "metadata": {},
     "output_type": "execute_result"
    }
   ],
   "source": [
    "float16_dataType_tensor * float32_dataType"
   ]
  },
  {
   "cell_type": "code",
   "execution_count": 33,
   "id": "0774a755",
   "metadata": {},
   "outputs": [
    {
     "data": {
      "text/plain": [
       "tensor([3, 6, 9], dtype=torch.int32)"
      ]
     },
     "execution_count": 33,
     "metadata": {},
     "output_type": "execute_result"
    }
   ],
   "source": [
    "int_32_tensor = torch.tensor([3,6,9], dtype=torch.int32)\n",
    "int_32_tensor"
   ]
  },
  {
   "cell_type": "code",
   "execution_count": 34,
   "id": "a192d3b3",
   "metadata": {},
   "outputs": [
    {
     "data": {
      "text/plain": [
       "tensor([ 9., 36., 81.])"
      ]
     },
     "execution_count": 34,
     "metadata": {},
     "output_type": "execute_result"
    }
   ],
   "source": [
    "float32_dataType * int_32_tensor"
   ]
  },
  {
   "cell_type": "code",
   "execution_count": 35,
   "id": "a257510f",
   "metadata": {},
   "outputs": [
    {
     "data": {
      "text/plain": [
       "tensor([[0.9858, 0.4201, 0.0733, 0.0725],\n",
       "        [0.2714, 0.7731, 0.4894, 0.3738],\n",
       "        [0.8266, 0.4373, 0.0652, 0.8473]])"
      ]
     },
     "execution_count": 35,
     "metadata": {},
     "output_type": "execute_result"
    }
   ],
   "source": [
    "# Creating a tensor\n",
    "some_tensor = torch.rand(3,4)\n",
    "some_tensor"
   ]
  },
  {
   "cell_type": "code",
   "execution_count": 36,
   "id": "2e76e248",
   "metadata": {},
   "outputs": [
    {
     "data": {
      "text/plain": [
       "(torch.Size([3, 4]), torch.Size([3, 4]))"
      ]
     },
     "execution_count": 36,
     "metadata": {},
     "output_type": "execute_result"
    }
   ],
   "source": [
    "some_tensor.size(), some_tensor.shape"
   ]
  },
  {
   "cell_type": "code",
   "execution_count": 37,
   "id": "7757e308",
   "metadata": {},
   "outputs": [
    {
     "name": "stdout",
     "output_type": "stream",
     "text": [
      "tensor([[0.9858, 0.4201, 0.0733, 0.0725],\n",
      "        [0.2714, 0.7731, 0.4894, 0.3738],\n",
      "        [0.8266, 0.4373, 0.0652, 0.8473]])\n",
      "Datatype of tensor: torch.float32\n",
      "Shape of tensor: torch.Size([3, 4])\n",
      "Device of tensor: cpu\n"
     ]
    }
   ],
   "source": [
    "print(some_tensor)\n",
    "print(f\"Datatype of tensor: {some_tensor.dtype}\")\n",
    "print(f\"Shape of tensor: {some_tensor.shape}\")\n",
    "print(f\"Device of tensor: {some_tensor.device}\")"
   ]
  },
  {
   "cell_type": "code",
   "execution_count": 38,
   "id": "82b07842",
   "metadata": {},
   "outputs": [
    {
     "data": {
      "text/plain": [
       "tensor([11, 12, 13])"
      ]
     },
     "execution_count": 38,
     "metadata": {},
     "output_type": "execute_result"
    }
   ],
   "source": [
    "# tensor operation\n",
    "tensor = torch.tensor([1,2,3])\n",
    "tensor + 10\n"
   ]
  },
  {
   "cell_type": "code",
   "execution_count": 39,
   "id": "b677148f",
   "metadata": {},
   "outputs": [
    {
     "data": {
      "text/plain": [
       "tensor([10, 20, 30])"
      ]
     },
     "execution_count": 39,
     "metadata": {},
     "output_type": "execute_result"
    }
   ],
   "source": [
    "tensor *10"
   ]
  },
  {
   "cell_type": "code",
   "execution_count": 40,
   "id": "be3afae2",
   "metadata": {},
   "outputs": [
    {
     "data": {
      "text/plain": [
       "tensor([-9, -8, -7])"
      ]
     },
     "execution_count": 40,
     "metadata": {},
     "output_type": "execute_result"
    }
   ],
   "source": [
    "tensor - 10\n"
   ]
  },
  {
   "cell_type": "code",
   "execution_count": 41,
   "id": "f0799b83",
   "metadata": {},
   "outputs": [
    {
     "data": {
      "text/plain": [
       "tensor([0.1250, 0.2500, 0.3750])"
      ]
     },
     "execution_count": 41,
     "metadata": {},
     "output_type": "execute_result"
    }
   ],
   "source": [
    "tensor/8\n"
   ]
  },
  {
   "cell_type": "code",
   "execution_count": 42,
   "id": "d581f222",
   "metadata": {},
   "outputs": [
    {
     "data": {
      "text/plain": [
       "tensor([10, 20, 30])"
      ]
     },
     "execution_count": 42,
     "metadata": {},
     "output_type": "execute_result"
    }
   ],
   "source": [
    "torch.mul(tensor,10)"
   ]
  },
  {
   "cell_type": "code",
   "execution_count": 43,
   "id": "2b3a8c15",
   "metadata": {},
   "outputs": [
    {
     "data": {
      "text/plain": [
       "tensor([6, 7, 8])"
      ]
     },
     "execution_count": 43,
     "metadata": {},
     "output_type": "execute_result"
    }
   ],
   "source": [
    "torch.add(tensor,5)"
   ]
  },
  {
   "cell_type": "code",
   "execution_count": 44,
   "id": "f3b53398",
   "metadata": {},
   "outputs": [],
   "source": [
    "# Matrix multiplication"
   ]
  },
  {
   "cell_type": "code",
   "execution_count": 45,
   "id": "062de21c",
   "metadata": {},
   "outputs": [
    {
     "name": "stdout",
     "output_type": "stream",
     "text": [
      "tensor([1, 2, 3]) * tensor([1, 2, 3]) = tensor([1, 4, 9])\n"
     ]
    }
   ],
   "source": [
    "print(f\"{tensor} * {tensor} = {tensor * tensor}\")"
   ]
  },
  {
   "cell_type": "code",
   "execution_count": 46,
   "id": "434258f7",
   "metadata": {},
   "outputs": [
    {
     "data": {
      "text/plain": [
       "tensor(14)"
      ]
     },
     "execution_count": 46,
     "metadata": {},
     "output_type": "execute_result"
    }
   ],
   "source": [
    "# MAtrix Multiplication\n",
    "torch.matmul(tensor,tensor)"
   ]
  },
  {
   "cell_type": "code",
   "execution_count": 47,
   "id": "7684fafc",
   "metadata": {},
   "outputs": [
    {
     "name": "stdout",
     "output_type": "stream",
     "text": [
      "tensor(14)\n",
      "CPU times: total: 0 ns\n",
      "Wall time: 11.8 ms\n"
     ]
    }
   ],
   "source": [
    "%%time\n",
    "value=0\n",
    "for i in range(len(tensor)):\n",
    "    value+=tensor[i] * tensor[i]\n",
    "print(value)"
   ]
  },
  {
   "cell_type": "code",
   "execution_count": 48,
   "id": "3806143a",
   "metadata": {},
   "outputs": [
    {
     "name": "stdout",
     "output_type": "stream",
     "text": [
      "CPU times: total: 0 ns\n",
      "Wall time: 999 µs\n"
     ]
    },
    {
     "data": {
      "text/plain": [
       "tensor(14)"
      ]
     },
     "execution_count": 48,
     "metadata": {},
     "output_type": "execute_result"
    }
   ],
   "source": [
    "%%time\n",
    "torch.matmul(tensor,tensor)"
   ]
  },
  {
   "cell_type": "code",
   "execution_count": 57,
   "id": "4ba177e0",
   "metadata": {},
   "outputs": [],
   "source": [
    "tensor99 = torch.rand(10000,10000)"
   ]
  },
  {
   "cell_type": "code",
   "execution_count": 58,
   "id": "0b43d8a7",
   "metadata": {},
   "outputs": [
    {
     "name": "stdout",
     "output_type": "stream",
     "text": [
      "CPU times: total: 49.7 s\n",
      "Wall time: 28 s\n"
     ]
    },
    {
     "data": {
      "text/plain": [
       "tensor([[2494.4370, 2497.4565, 2511.8162,  ..., 2490.4001, 2484.1040,\n",
       "         2456.1382],\n",
       "        [2510.7100, 2537.1270, 2513.8413,  ..., 2506.5837, 2508.9565,\n",
       "         2471.0774],\n",
       "        [2466.0032, 2495.4468, 2489.3682,  ..., 2472.5093, 2447.5693,\n",
       "         2436.2146],\n",
       "        ...,\n",
       "        [2482.6587, 2515.2637, 2524.3435,  ..., 2491.4817, 2475.5225,\n",
       "         2446.9778],\n",
       "        [2508.4324, 2524.5671, 2514.4092,  ..., 2489.7939, 2478.1348,\n",
       "         2459.8181],\n",
       "        [2492.6953, 2501.3279, 2493.8425,  ..., 2470.1758, 2477.8230,\n",
       "         2436.4678]])"
      ]
     },
     "execution_count": 58,
     "metadata": {},
     "output_type": "execute_result"
    }
   ],
   "source": [
    "%%time\n",
    "torch.matmul(tensor99,tensor99)"
   ]
  },
  {
   "cell_type": "code",
   "execution_count": 60,
   "id": "05e6e41e",
   "metadata": {},
   "outputs": [
    {
     "name": "stdout",
     "output_type": "stream",
     "text": [
      "CPU times: total: 44.9 s\n",
      "Wall time: 24.4 s\n"
     ]
    },
    {
     "data": {
      "text/plain": [
       "tensor([[2494.4370, 2497.4565, 2511.8162,  ..., 2490.4001, 2484.1040,\n",
       "         2456.1382],\n",
       "        [2510.7100, 2537.1270, 2513.8413,  ..., 2506.5837, 2508.9565,\n",
       "         2471.0774],\n",
       "        [2466.0032, 2495.4468, 2489.3682,  ..., 2472.5093, 2447.5693,\n",
       "         2436.2146],\n",
       "        ...,\n",
       "        [2482.6587, 2515.2637, 2524.3435,  ..., 2491.4817, 2475.5225,\n",
       "         2446.9778],\n",
       "        [2508.4324, 2524.5671, 2514.4092,  ..., 2489.7939, 2478.1348,\n",
       "         2459.8181],\n",
       "        [2492.6953, 2501.3279, 2493.8425,  ..., 2470.1758, 2477.8230,\n",
       "         2436.4678]])"
      ]
     },
     "execution_count": 60,
     "metadata": {},
     "output_type": "execute_result"
    }
   ],
   "source": [
    "%%time\n",
    "tensor99@tensor99"
   ]
  },
  {
   "cell_type": "code",
   "execution_count": 62,
   "id": "ff4c2a81",
   "metadata": {},
   "outputs": [
    {
     "ename": "RuntimeError",
     "evalue": "mat1 and mat2 shapes cannot be multiplied (3x2 and 3x2)",
     "output_type": "error",
     "traceback": [
      "\u001b[1;31m---------------------------------------------------------------------------\u001b[0m",
      "\u001b[1;31mRuntimeError\u001b[0m                              Traceback (most recent call last)",
      "Cell \u001b[1;32mIn[62], line 7\u001b[0m\n\u001b[0;32m      1\u001b[0m tensor_A \u001b[38;5;241m=\u001b[39m torch\u001b[38;5;241m.\u001b[39mtensor([[\u001b[38;5;241m1\u001b[39m,\u001b[38;5;241m2\u001b[39m],\n\u001b[0;32m      2\u001b[0m                          [\u001b[38;5;241m3\u001b[39m,\u001b[38;5;241m4\u001b[39m],\n\u001b[0;32m      3\u001b[0m                          [\u001b[38;5;241m5\u001b[39m,\u001b[38;5;241m6\u001b[39m]])\n\u001b[0;32m      4\u001b[0m tensor_B \u001b[38;5;241m=\u001b[39m torch\u001b[38;5;241m.\u001b[39mtensor([[\u001b[38;5;241m5\u001b[39m,\u001b[38;5;241m6\u001b[39m],\n\u001b[0;32m      5\u001b[0m                          [\u001b[38;5;241m7\u001b[39m,\u001b[38;5;241m8\u001b[39m],\n\u001b[0;32m      6\u001b[0m                          [\u001b[38;5;241m9\u001b[39m,\u001b[38;5;241m10\u001b[39m]])\n\u001b[1;32m----> 7\u001b[0m torch\u001b[38;5;241m.\u001b[39mmm(tensor_A, tensor_B)\n",
      "\u001b[1;31mRuntimeError\u001b[0m: mat1 and mat2 shapes cannot be multiplied (3x2 and 3x2)"
     ]
    }
   ],
   "source": [
    "tensor_A = torch.tensor([[1,2],\n",
    "                         [3,4],\n",
    "                         [5,6]])\n",
    "tensor_B = torch.tensor([[5,6],\n",
    "                         [7,8],\n",
    "                         [9,10]])\n",
    "torch.mm(tensor_A, tensor_B)"
   ]
  },
  {
   "cell_type": "code",
   "execution_count": 63,
   "id": "8bb8c132",
   "metadata": {},
   "outputs": [
    {
     "data": {
      "text/plain": [
       "(torch.Size([3, 2]), torch.Size([3, 2]))"
      ]
     },
     "execution_count": 63,
     "metadata": {},
     "output_type": "execute_result"
    }
   ],
   "source": [
    "tensor_A.shape, tensor_B.shape"
   ]
  },
  {
   "cell_type": "code",
   "execution_count": 64,
   "id": "255c502d",
   "metadata": {},
   "outputs": [
    {
     "data": {
      "text/plain": [
       "(tensor([[ 5,  7,  9],\n",
       "         [ 6,  8, 10]]),\n",
       " tensor([[ 5,  6],\n",
       "         [ 7,  8],\n",
       "         [ 9, 10]]))"
      ]
     },
     "execution_count": 64,
     "metadata": {},
     "output_type": "execute_result"
    }
   ],
   "source": [
    "tensor_B.T, tensor_B"
   ]
  },
  {
   "cell_type": "code",
   "execution_count": 66,
   "id": "12eef460",
   "metadata": {},
   "outputs": [
    {
     "data": {
      "text/plain": [
       "(tensor([[ 5,  6],\n",
       "         [ 7,  8],\n",
       "         [ 9, 10]]),\n",
       " torch.Size([3, 2]))"
      ]
     },
     "execution_count": 66,
     "metadata": {},
     "output_type": "execute_result"
    }
   ],
   "source": [
    "tensor_B,tensor_B.shape"
   ]
  },
  {
   "cell_type": "code",
   "execution_count": 68,
   "id": "e74c6a2d",
   "metadata": {},
   "outputs": [
    {
     "data": {
      "text/plain": [
       "(tensor([[ 5,  7,  9],\n",
       "         [ 6,  8, 10]]),\n",
       " torch.Size([2, 3]))"
      ]
     },
     "execution_count": 68,
     "metadata": {},
     "output_type": "execute_result"
    }
   ],
   "source": [
    "tensor_B.T,tensor_B.T.shape"
   ]
  },
  {
   "cell_type": "code",
   "execution_count": 69,
   "id": "29d7e681",
   "metadata": {},
   "outputs": [
    {
     "data": {
      "text/plain": [
       "tensor([[ 17,  23,  29],\n",
       "        [ 39,  53,  67],\n",
       "        [ 61,  83, 105]])"
      ]
     },
     "execution_count": 69,
     "metadata": {},
     "output_type": "execute_result"
    }
   ],
   "source": [
    "torch.mm(tensor_A,tensor_B.T)"
   ]
  },
  {
   "cell_type": "code",
   "execution_count": 70,
   "id": "67004724",
   "metadata": {},
   "outputs": [
    {
     "data": {
      "text/plain": [
       "torch.Size([3, 3])"
      ]
     },
     "execution_count": 70,
     "metadata": {},
     "output_type": "execute_result"
    }
   ],
   "source": [
    "torch.mm(tensor_A,tensor_B.T).shape"
   ]
  },
  {
   "cell_type": "code",
   "execution_count": 71,
   "id": "c0cd9f1f",
   "metadata": {},
   "outputs": [],
   "source": [
    "### Finding min max sum etc\n"
   ]
  },
  {
   "cell_type": "code",
   "execution_count": 72,
   "id": "e769d4b7",
   "metadata": {},
   "outputs": [
    {
     "data": {
      "text/plain": [
       "(tensor([ 1, 10, 19, 28, 37, 46, 55, 64, 73, 82, 91]), torch.int64)"
      ]
     },
     "execution_count": 72,
     "metadata": {},
     "output_type": "execute_result"
    }
   ],
   "source": [
    "#crete a tensor\n",
    "x = torch.arange(1,100,9)\n",
    "x, x.dtype"
   ]
  },
  {
   "cell_type": "code",
   "execution_count": 74,
   "id": "3bce4241",
   "metadata": {},
   "outputs": [
    {
     "data": {
      "text/plain": [
       "(tensor(1), tensor(1))"
      ]
     },
     "execution_count": 74,
     "metadata": {},
     "output_type": "execute_result"
    }
   ],
   "source": [
    "torch.min(x), x.min()"
   ]
  },
  {
   "cell_type": "code",
   "execution_count": 75,
   "id": "16f7ee86",
   "metadata": {},
   "outputs": [
    {
     "data": {
      "text/plain": [
       "(tensor(91), tensor(91))"
      ]
     },
     "execution_count": 75,
     "metadata": {},
     "output_type": "execute_result"
    }
   ],
   "source": [
    "torch.max(x), x.max()"
   ]
  },
  {
   "cell_type": "code",
   "execution_count": 76,
   "id": "7d168e6d",
   "metadata": {},
   "outputs": [
    {
     "ename": "RuntimeError",
     "evalue": "mean(): could not infer output dtype. Input dtype must be either a floating point or complex dtype. Got: Long",
     "output_type": "error",
     "traceback": [
      "\u001b[1;31m---------------------------------------------------------------------------\u001b[0m",
      "\u001b[1;31mRuntimeError\u001b[0m                              Traceback (most recent call last)",
      "Cell \u001b[1;32mIn[76], line 1\u001b[0m\n\u001b[1;32m----> 1\u001b[0m torch\u001b[38;5;241m.\u001b[39mmean(x)\n",
      "\u001b[1;31mRuntimeError\u001b[0m: mean(): could not infer output dtype. Input dtype must be either a floating point or complex dtype. Got: Long"
     ]
    }
   ],
   "source": [
    "torch.mean(x)"
   ]
  },
  {
   "cell_type": "code",
   "execution_count": 77,
   "id": "6c478aeb",
   "metadata": {},
   "outputs": [
    {
     "data": {
      "text/plain": [
       "tensor(46.)"
      ]
     },
     "execution_count": 77,
     "metadata": {},
     "output_type": "execute_result"
    }
   ],
   "source": [
    "torch.mean(x.type(torch.float32))"
   ]
  },
  {
   "cell_type": "code",
   "execution_count": 78,
   "id": "ca6c7252",
   "metadata": {},
   "outputs": [
    {
     "data": {
      "text/plain": [
       "tensor(46.)"
      ]
     },
     "execution_count": 78,
     "metadata": {},
     "output_type": "execute_result"
    }
   ],
   "source": [
    "x.type(torch.float32).mean()"
   ]
  },
  {
   "cell_type": "code",
   "execution_count": 80,
   "id": "18306148",
   "metadata": {},
   "outputs": [
    {
     "data": {
      "text/plain": [
       "(tensor(506), tensor(506))"
      ]
     },
     "execution_count": 80,
     "metadata": {},
     "output_type": "execute_result"
    }
   ],
   "source": [
    "torch.sum(x), x.sum()"
   ]
  },
  {
   "cell_type": "code",
   "execution_count": null,
   "id": "d6e088ba",
   "metadata": {},
   "outputs": [],
   "source": []
  }
 ],
 "metadata": {
  "kernelspec": {
   "display_name": "base",
   "language": "python",
   "name": "python3"
  },
  "language_info": {
   "codemirror_mode": {
    "name": "ipython",
    "version": 3
   },
   "file_extension": ".py",
   "mimetype": "text/x-python",
   "name": "python",
   "nbconvert_exporter": "python",
   "pygments_lexer": "ipython3",
   "version": "3.11.5"
  }
 },
 "nbformat": 4,
 "nbformat_minor": 5
}
