{
 "cells": [
  {
   "cell_type": "code",
   "execution_count": 21,
   "metadata": {},
   "outputs": [
    {
     "name": "stdout",
     "output_type": "stream",
     "text": [
      "Name: numpy\n",
      "Version: 1.26.0\n",
      "Summary: Fundamental package for array computing in Python\n",
      "Home-page: https://numpy.org\n",
      "Author: Travis E. Oliphant et al.\n",
      "Author-email: \n",
      "License: Copyright (c) 2005-2023, NumPy Developers.\n",
      "All rights reserved.\n",
      "\n",
      "Redistribution and use in source and binary forms, with or without\n",
      "modification, are permitted provided that the following conditions are\n",
      "met:\n",
      "\n",
      "    * Redistributions of source code must retain the above copyright\n",
      "       notice, this list of conditions and the following disclaimer.\n",
      "\n",
      "    * Redistributions in binary form must reproduce the above\n",
      "       copyright notice, this list of conditions and the following\n",
      "       disclaimer in the documentation and/or other materials provided\n",
      "       with the distribution.\n",
      "\n",
      "    * Neither the name of the NumPy Developers nor the names of any\n",
      "       contributors may be used to endorse or promote products derived\n",
      "       from this software without specific prior written permission.\n",
      "\n",
      "THIS SOFTWARE IS PROVIDED BY THE COPYRIGHT HOLDERS AND CONTRIBUTORS\n",
      "\"AS IS\" AND ANY EXPRESS OR IMPLIED WARRANTIES, INCLUDING, BUT NOT\n",
      "LIMITED TO, THE IMPLIED WARRANTIES OF MERCHANTABILITY AND FITNESS FOR\n",
      "A PARTICULAR PURPOSE ARE DISCLAIMED. IN NO EVENT SHALL THE COPYRIGHT\n",
      "OWNER OR CONTRIBUTORS BE LIABLE FOR ANY DIRECT, INDIRECT, INCIDENTAL,\n",
      "SPECIAL, EXEMPLARY, OR CONSEQUENTIAL DAMAGES (INCLUDING, BUT NOT\n",
      "LIMITED TO, PROCUREMENT OF SUBSTITUTE GOODS OR SERVICES; LOSS OF USE,\n",
      "DATA, OR PROFITS; OR BUSINESS INTERRUPTION) HOWEVER CAUSED AND ON ANY\n",
      "THEORY OF LIABILITY, WHETHER IN CONTRACT, STRICT LIABILITY, OR TORT\n",
      "(INCLUDING NEGLIGENCE OR OTHERWISE) ARISING IN ANY WAY OUT OF THE USE\n",
      "OF THIS SOFTWARE, EVEN IF ADVISED OF THE POSSIBILITY OF SUCH DAMAGE.\n",
      "\n",
      "----\n",
      "\n",
      "This binary distribution of NumPy also bundles the following software:\n",
      "\n",
      "\n",
      "Name: OpenBLAS\n",
      "Files: extra-dll\\libopenb*.dll\n",
      "Description: bundled as a dynamically linked library\n",
      "Availability: https://github.com/xianyi/OpenBLAS/\n",
      "License: 3-clause BSD\n",
      "  Copyright (c) 2011-2014, The OpenBLAS Project\n",
      "  All rights reserved.\n",
      "\n",
      "  Redistribution and use in source and binary forms, with or without\n",
      "  modification, are permitted provided that the following conditions are\n",
      "  met:\n",
      "\n",
      "     1. Redistributions of source code must retain the above copyright\n",
      "        notice, this list of conditions and the following disclaimer.\n",
      "\n",
      "     2. Redistributions in binary form must reproduce the above copyright\n",
      "        notice, this list of conditions and the following disclaimer in\n",
      "        the documentation and/or other materials provided with the\n",
      "        distribution.\n",
      "     3. Neither the name of the OpenBLAS project nor the names of\n",
      "        its contributors may be used to endorse or promote products\n",
      "        derived from this software without specific prior written\n",
      "        permission.\n",
      "\n",
      "  THIS SOFTWARE IS PROVIDED BY THE COPYRIGHT HOLDERS AND CONTRIBUTORS \"AS IS\"\n",
      "  AND ANY EXPRESS OR IMPLIED WARRANTIES, INCLUDING, BUT NOT LIMITED TO, THE\n",
      "  IMPLIED WARRANTIES OF MERCHANTABILITY AND FITNESS FOR A PARTICULAR PURPOSE\n",
      "  ARE DISCLAIMED. IN NO EVENT SHALL THE COPYRIGHT OWNER OR CONTRIBUTORS BE\n",
      "  LIABLE FOR ANY DIRECT, INDIRECT, INCIDENTAL, SPECIAL, EXEMPLARY, OR CONSEQUENTIAL\n",
      "  DAMAGES (INCLUDING, BUT NOT LIMITED TO, PROCUREMENT OF SUBSTITUTE GOODS OR\n",
      "  SERVICES; LOSS OF USE, DATA, OR PROFITS; OR BUSINESS INTERRUPTION) HOWEVER\n",
      "  CAUSED AND ON ANY THEORY OF LIABILITY, WHETHER IN CONTRACT, STRICT LIABILITY,\n",
      "  OR TORT (INCLUDING NEGLIGENCE OR OTHERWISE) ARISING IN ANY WAY OUT OF THE\n",
      "  USE OF THIS SOFTWARE, EVEN IF ADVISED OF THE POSSIBILITY OF SUCH DAMAGE.\n",
      "\n",
      "\n",
      "Name: LAPACK\n",
      "Files: extra-dll\\libopenb*.dll\n",
      "Description: bundled in OpenBLAS\n",
      "Availability: https://github.com/xianyi/OpenBLAS/\n",
      "License 3-clause BSD\n",
      "  Copyright (c) 1992-2013 The University of Tennessee and The University\n",
      "                          of Tennessee Research Foundation.  All rights\n",
      "                          reserved.\n",
      "  Copyright (c) 2000-2013 The University of California Berkeley. All\n",
      "                          rights reserved.\n",
      "  Copyright (c) 2006-2013 The University of Colorado Denver.  All rights\n",
      "                          reserved.\n",
      "\n",
      "  $COPYRIGHT$\n",
      "\n",
      "  Additional copyrights may follow\n",
      "\n",
      "  $HEADER$\n",
      "\n",
      "  Redistribution and use in source and binary forms, with or without\n",
      "  modification, are permitted provided that the following conditions are\n",
      "  met:\n",
      "\n",
      "  - Redistributions of source code must retain the above copyright\n",
      "    notice, this list of conditions and the following disclaimer.\n",
      "\n",
      "  - Redistributions in binary form must reproduce the above copyright\n",
      "    notice, this list of conditions and the following disclaimer listed\n",
      "    in this license in the documentation and/or other materials\n",
      "    provided with the distribution.\n",
      "\n",
      "  - Neither the name of the copyright holders nor the names of its\n",
      "    contributors may be used to endorse or promote products derived from\n",
      "    this software without specific prior written permission.\n",
      "\n",
      "  The copyright holders provide no reassurances that the source code\n",
      "  provided does not infringe any patent, copyright, or any other\n",
      "  intellectual property rights of third parties.  The copyright holders\n",
      "  disclaim any liability to any recipient for claims brought against\n",
      "  recipient by any third party for infringement of that parties\n",
      "  intellectual property rights.\n",
      "\n",
      "  THIS SOFTWARE IS PROVIDED BY THE COPYRIGHT HOLDERS AND CONTRIBUTORS\n",
      "  \"AS IS\" AND ANY EXPRESS OR IMPLIED WARRANTIES, INCLUDING, BUT NOT\n",
      "  LIMITED TO, THE IMPLIED WARRANTIES OF MERCHANTABILITY AND FITNESS FOR\n",
      "  A PARTICULAR PURPOSE ARE DISCLAIMED. IN NO EVENT SHALL THE COPYRIGHT\n",
      "  OWNER OR CONTRIBUTORS BE LIABLE FOR ANY DIRECT, INDIRECT, INCIDENTAL,\n",
      "  SPECIAL, EXEMPLARY, OR CONSEQUENTIAL DAMAGES (INCLUDING, BUT NOT\n",
      "  LIMITED TO, PROCUREMENT OF SUBSTITUTE GOODS OR SERVICES; LOSS OF USE,\n",
      "  DATA, OR PROFITS; OR BUSINESS INTERRUPTION) HOWEVER CAUSED AND ON ANY\n",
      "  THEORY OF LIABILITY, WHETHER IN CONTRACT, STRICT LIABILITY, OR TORT\n",
      "  (INCLUDING NEGLIGENCE OR OTHERWISE) ARISING IN ANY WAY OUT OF THE USE\n",
      "  OF THIS SOFTWARE, EVEN IF ADVISED OF THE POSSIBILITY OF SUCH DAMAGE.\n",
      "\n",
      "\n",
      "Name: GCC runtime library\n",
      "Files: extra-dll\\*.dll\n",
      "Description: statically linked, in DLL files compiled with gfortran only\n",
      "Availability: https://gcc.gnu.org/viewcvs/gcc/\n",
      "License: GPLv3 + runtime exception\n",
      "  Copyright (C) 2002-2017 Free Software Foundation, Inc.\n",
      "\n",
      "  Libgfortran is free software; you can redistribute it and/or modify\n",
      "  it under the terms of the GNU General Public License as published by\n",
      "  the Free Software Foundation; either version 3, or (at your option)\n",
      "  any later version.\n",
      "\n",
      "  Libgfortran is distributed in the hope that it will be useful,\n",
      "  but WITHOUT ANY WARRANTY; without even the implied warranty of\n",
      "  MERCHANTABILITY or FITNESS FOR A PARTICULAR PURPOSE.  See the\n",
      "  GNU General Public License for more details.\n",
      "\n",
      "  Under Section 7 of GPL version 3, you are granted additional\n",
      "  permissions described in the GCC Runtime Library Exception, version\n",
      "  3.1, as published by the Free Software Foundation.\n",
      "\n",
      "  You should have received a copy of the GNU General Public License and\n",
      "  a copy of the GCC Runtime Library Exception along with this program;\n",
      "  see the files COPYING3 and COPYING.RUNTIME respectively.  If not, see\n",
      "  <http://www.gnu.org/licenses/>.\n",
      "\n",
      "\n",
      "Name: Microsoft Visual C++ Runtime Files\n",
      "Files: extra-dll\\msvcp140.dll\n",
      "License: MSVC\n",
      "  https://www.visualstudio.com/license-terms/distributable-code-microsoft-visual-studio-2015-rc-microsoft-visual-studio-2015-sdk-rc-includes-utilities-buildserver-files/#visual-c-runtime\n",
      "\n",
      "  Subject to the License Terms for the software, you may copy and\n",
      "  distribute with your program any of the files within the followng\n",
      "  folder and its subfolders except as noted below. You may not modify\n",
      "  these files.\n",
      "\n",
      "    C:\\Program Files (x86)\\Microsoft Visual Studio 14.0\\VC\\redist\n",
      "\n",
      "  You may not distribute the contents of the following folders:\n",
      "\n",
      "    C:\\Program Files (x86)\\Microsoft Visual Studio 14.0\\VC\\redist\\debug_nonredist\n",
      "    C:\\Program Files (x86)\\Microsoft Visual Studio 14.0\\VC\\redist\\onecore\\debug_nonredist\n",
      "\n",
      "  Subject to the License Terms for the software, you may copy and\n",
      "  distribute the following files with your program in your program’s\n",
      "  application local folder or by deploying them into the Global\n",
      "  Assembly Cache (GAC):\n",
      "\n",
      "  VC\\atlmfc\\lib\\mfcmifc80.dll\n",
      "  VC\\atlmfc\\lib\\amd64\\mfcmifc80.dll\n",
      "\n",
      "\n",
      "Name: Microsoft Visual C++ Runtime Files\n",
      "Files: extra-dll\\msvc*90.dll, extra-dll\\Microsoft.VC90.CRT.manifest\n",
      "License: MSVC\n",
      "  For your convenience, we have provided the following folders for\n",
      "  use when redistributing VC++ runtime files. Subject to the license\n",
      "  terms for the software, you may redistribute the folder\n",
      "  (unmodified) in the application local folder as a sub-folder with\n",
      "  no change to the folder name. You may also redistribute all the\n",
      "  files (*.dll and *.manifest) within a folder, listed below the\n",
      "  folder for your convenience, as an entire set.\n",
      "\n",
      "  \\VC\\redist\\x86\\Microsoft.VC90.ATL\\\n",
      "   atl90.dll\n",
      "   Microsoft.VC90.ATL.manifest\n",
      "  \\VC\\redist\\ia64\\Microsoft.VC90.ATL\\\n",
      "   atl90.dll\n",
      "   Microsoft.VC90.ATL.manifest\n",
      "  \\VC\\redist\\amd64\\Microsoft.VC90.ATL\\\n",
      "   atl90.dll\n",
      "   Microsoft.VC90.ATL.manifest\n",
      "  \\VC\\redist\\x86\\Microsoft.VC90.CRT\\\n",
      "   msvcm90.dll\n",
      "   msvcp90.dll\n",
      "   msvcr90.dll\n",
      "   Microsoft.VC90.CRT.manifest\n",
      "  \\VC\\redist\\ia64\\Microsoft.VC90.CRT\\\n",
      "   msvcm90.dll\n",
      "   msvcp90.dll\n",
      "   msvcr90.dll\n",
      "   Microsoft.VC90.CRT.manifest\n",
      "\n",
      "----\n",
      "\n",
      "Full text of license texts referred to above follows (that they are\n",
      "listed below does not necessarily imply the conditions apply to the\n",
      "present binary release):\n",
      "\n",
      "----\n",
      "\n",
      "GCC RUNTIME LIBRARY EXCEPTION\n",
      "\n",
      "Version 3.1, 31 March 2009\n",
      "\n",
      "Copyright (C) 2009 Free Software Foundation, Inc. <http://fsf.org/>\n",
      "\n",
      "Everyone is permitted to copy and distribute verbatim copies of this\n",
      "license document, but changing it is not allowed.\n",
      "\n",
      "This GCC Runtime Library Exception (\"Exception\") is an additional\n",
      "permission under section 7 of the GNU General Public License, version\n",
      "3 (\"GPLv3\"). It applies to a given file (the \"Runtime Library\") that\n",
      "bears a notice placed by the copyright holder of the file stating that\n",
      "the file is governed by GPLv3 along with this Exception.\n",
      "\n",
      "When you use GCC to compile a program, GCC may combine portions of\n",
      "certain GCC header files and runtime libraries with the compiled\n",
      "program. The purpose of this Exception is to allow compilation of\n",
      "non-GPL (including proprietary) programs to use, in this way, the\n",
      "header files and runtime libraries covered by this Exception.\n",
      "\n",
      "0. Definitions.\n",
      "\n",
      "A file is an \"Independent Module\" if it either requires the Runtime\n",
      "Library for execution after a Compilation Process, or makes use of an\n",
      "interface provided by the Runtime Library, but is not otherwise based\n",
      "on the Runtime Library.\n",
      "\n",
      "\"GCC\" means a version of the GNU Compiler Collection, with or without\n",
      "modifications, governed by version 3 (or a specified later version) of\n",
      "the GNU General Public License (GPL) with the option of using any\n",
      "subsequent versions published by the FSF.\n",
      "\n",
      "\"GPL-compatible Software\" is software whose conditions of propagation,\n",
      "modification and use would permit combination with GCC in accord with\n",
      "the license of GCC.\n",
      "\n",
      "\"Target Code\" refers to output from any compiler for a real or virtual\n",
      "target processor architecture, in executable form or suitable for\n",
      "input to an assembler, loader, linker and/or execution\n",
      "phase. Notwithstanding that, Target Code does not include data in any\n",
      "format that is used as a compiler intermediate representation, or used\n",
      "for producing a compiler intermediate representation.\n",
      "\n",
      "The \"Compilation Process\" transforms code entirely represented in\n",
      "non-intermediate languages designed for human-written code, and/or in\n",
      "Java Virtual Machine byte code, into Target Code. Thus, for example,\n",
      "use of source code generators and preprocessors need not be considered\n",
      "part of the Compilation Process, since the Compilation Process can be\n",
      "understood as starting with the output of the generators or\n",
      "preprocessors.\n",
      "\n",
      "A Compilation Process is \"Eligible\" if it is done using GCC, alone or\n",
      "with other GPL-compatible software, or if it is done without using any\n",
      "work based on GCC. For example, using non-GPL-compatible Software to\n",
      "optimize any GCC intermediate representations would not qualify as an\n",
      "Eligible Compilation Process.\n",
      "\n",
      "1. Grant of Additional Permission.\n",
      "\n",
      "You have permission to propagate a work of Target Code formed by\n",
      "combining the Runtime Library with Independent Modules, even if such\n",
      "propagation would otherwise violate the terms of GPLv3, provided that\n",
      "all Target Code was generated by Eligible Compilation Processes. You\n",
      "may then convey such a combination under terms of your choice,\n",
      "consistent with the licensing of the Independent Modules.\n",
      "\n",
      "2. No Weakening of GCC Copyleft.\n",
      "\n",
      "The availability of this Exception does not imply any general\n",
      "presumption that third-party software is unaffected by the copyleft\n",
      "requirements of the license of GCC.\n",
      "\n",
      "----\n",
      "\n",
      "                    GNU GENERAL PUBLIC LICENSE\n",
      "                       Version 3, 29 June 2007\n",
      "\n",
      " Copyright (C) 2007 Free Software Foundation, Inc. <http://fsf.org/>\n",
      " Everyone is permitted to copy and distribute verbatim copies\n",
      " of this license document, but changing it is not allowed.\n",
      "\n",
      "                            Preamble\n",
      "\n",
      "  The GNU General Public License is a free, copyleft license for\n",
      "software and other kinds of works.\n",
      "\n",
      "  The licenses for most software and other practical works are designed\n",
      "to take away your freedom to share and change the works.  By contrast,\n",
      "the GNU General Public License is intended to guarantee your freedom to\n",
      "share and change all versions of a program--to make sure it remains free\n",
      "software for all its users.  We, the Free Software Foundation, use the\n",
      "GNU General Public License for most of our software; it applies also to\n",
      "any other work released this way by its authors.  You can apply it to\n",
      "your programs, too.\n",
      "\n",
      "  When we speak of free software, we are referring to freedom, not\n",
      "price.  Our General Public Licenses are designed to make sure that you\n",
      "have the freedom to distribute copies of free software (and charge for\n",
      "them if you wish), that you receive source code or can get it if you\n",
      "want it, that you can change the software or use pieces of it in new\n",
      "free programs, and that you know you can do these things.\n",
      "\n",
      "  To protect your rights, we need to prevent others from denying you\n",
      "these rights or asking you to surrender the rights.  Therefore, you have\n",
      "certain responsibilities if you distribute copies of the software, or if\n",
      "you modify it: responsibilities to respect the freedom of others.\n",
      "\n",
      "  For example, if you distribute copies of such a program, whether\n",
      "gratis or for a fee, you must pass on to the recipients the same\n",
      "freedoms that you received.  You must make sure that they, too, receive\n",
      "or can get the source code.  And you must show them these terms so they\n",
      "know their rights.\n",
      "\n",
      "  Developers that use the GNU GPL protect your rights with two steps:\n",
      "(1) assert copyright on the software, and (2) offer you this License\n",
      "giving you legal permission to copy, distribute and/or modify it.\n",
      "\n",
      "  For the developers' and authors' protection, the GPL clearly explains\n",
      "that there is no warranty for this free software.  For both users' and\n",
      "authors' sake, the GPL requires that modified versions be marked as\n",
      "changed, so that their problems will not be attributed erroneously to\n",
      "authors of previous versions.\n",
      "\n",
      "  Some devices are designed to deny users access to install or run\n",
      "modified versions of the software inside them, although the manufacturer\n",
      "can do so.  This is fundamentally incompatible with the aim of\n",
      "protecting users' freedom to change the software.  The systematic\n",
      "pattern of such abuse occurs in the area of products for individuals to\n",
      "use, which is precisely where it is most unacceptable.  Therefore, we\n",
      "have designed this version of the GPL to prohibit the practice for those\n",
      "products.  If such problems arise substantially in other domains, we\n",
      "stand ready to extend this provision to those domains in future versions\n",
      "of the GPL, as needed to protect the freedom of users.\n",
      "\n",
      "  Finally, every program is threatened constantly by software patents.\n",
      "States should not allow patents to restrict development and use of\n",
      "software on general-purpose computers, but in those that do, we wish to\n",
      "avoid the special danger that patents applied to a free program could\n",
      "make it effectively proprietary.  To prevent this, the GPL assures that\n",
      "patents cannot be used to render the program non-free.\n",
      "\n",
      "  The precise terms and conditions for copying, distribution and\n",
      "modification follow.\n",
      "\n",
      "                       TERMS AND CONDITIONS\n",
      "\n",
      "  0. Definitions.\n",
      "\n",
      "  \"This License\" refers to version 3 of the GNU General Public License.\n",
      "\n",
      "  \"Copyright\" also means copyright-like laws that apply to other kinds of\n",
      "works, such as semiconductor masks.\n",
      "\n",
      "  \"The Program\" refers to any copyrightable work licensed under this\n",
      "License.  Each licensee is addressed as \"you\".  \"Licensees\" and\n",
      "\"recipients\" may be individuals or organizations.\n",
      "\n",
      "  To \"modify\" a work means to copy from or adapt all or part of the work\n",
      "in a fashion requiring copyright permission, other than the making of an\n",
      "exact copy.  The resulting work is called a \"modified version\" of the\n",
      "earlier work or a work \"based on\" the earlier work.\n",
      "\n",
      "  A \"covered work\" means either the unmodified Program or a work based\n",
      "on the Program.\n",
      "\n",
      "  To \"propagate\" a work means to do anything with it that, without\n",
      "permission, would make you directly or secondarily liable for\n",
      "infringement under applicable copyright law, except executing it on a\n",
      "computer or modifying a private copy.  Propagation includes copying,\n",
      "distribution (with or without modification), making available to the\n",
      "public, and in some countries other activities as well.\n",
      "\n",
      "  To \"convey\" a work means any kind of propagation that enables other\n",
      "parties to make or receive copies.  Mere interaction with a user through\n",
      "a computer network, with no transfer of a copy, is not conveying.\n",
      "\n",
      "  An interactive user interface displays \"Appropriate Legal Notices\"\n",
      "to the extent that it includes a convenient and prominently visible\n",
      "feature that (1) displays an appropriate copyright notice, and (2)\n",
      "tells the user that there is no warranty for the work (except to the\n",
      "extent that warranties are provided), that licensees may convey the\n",
      "work under this License, and how to view a copy of this License.  If\n",
      "the interface presents a list of user commands or options, such as a\n",
      "menu, a prominent item in the list meets this criterion.\n",
      "\n",
      "  1. Source Code.\n",
      "\n",
      "  The \"source code\" for a work means the preferred form of the work\n",
      "for making modifications to it.  \"Object code\" means any non-source\n",
      "form of a work.\n",
      "\n",
      "  A \"Standard Interface\" means an interface that either is an official\n",
      "standard defined by a recognized standards body, or, in the case of\n",
      "interfaces specified for a particular programming language, one that\n",
      "is widely used among developers working in that language.\n",
      "\n",
      "  The \"System Libraries\" of an executable work include anything, other\n",
      "than the work as a whole, that (a) is included in the normal form of\n",
      "packaging a Major Component, but which is not part of that Major\n",
      "Component, and (b) serves only to enable use of the work with that\n",
      "Major Component, or to implement a Standard Interface for which an\n",
      "implementation is available to the public in source code form.  A\n",
      "\"Major Component\", in this context, means a major essential component\n",
      "(kernel, window system, and so on) of the specific operating system\n",
      "(if any) on which the executable work runs, or a compiler used to\n",
      "produce the work, or an object code interpreter used to run it.\n",
      "\n",
      "  The \"Corresponding Source\" for a work in object code form means all\n",
      "the source code needed to generate, install, and (for an executable\n",
      "work) run the object code and to modify the work, including scripts to\n",
      "control those activities.  However, it does not include the work's\n",
      "System Libraries, or general-purpose tools or generally available free\n",
      "programs which are used unmodified in performing those activities but\n",
      "which are not part of the work.  For example, Corresponding Source\n",
      "includes interface definition files associated with source files for\n",
      "the work, and the source code for shared libraries and dynamically\n",
      "linked subprograms that the work is specifically designed to require,\n",
      "such as by intimate data communication or control flow between those\n",
      "subprograms and other parts of the work.\n",
      "\n",
      "  The Corresponding Source need not include anything that users\n",
      "can regenerate automatically from other parts of the Corresponding\n",
      "Source.\n",
      "\n",
      "  The Corresponding Source for a work in source code form is that\n",
      "same work.\n",
      "\n",
      "  2. Basic Permissions.\n",
      "\n",
      "  All rights granted under this License are granted for the term of\n",
      "copyright on the Program, and are irrevocable provided the stated\n",
      "conditions are met.  This License explicitly affirms your unlimited\n",
      "permission to run the unmodified Program.  The output from running a\n",
      "covered work is covered by this License only if the output, given its\n",
      "content, constitutes a covered work.  This License acknowledges your\n",
      "rights of fair use or other equivalent, as provided by copyright law.\n",
      "\n",
      "  You may make, run and propagate covered works that you do not\n",
      "convey, without conditions so long as your license otherwise remains\n",
      "in force.  You may convey covered works to others for the sole purpose\n",
      "of having them make modifications exclusively for you, or provide you\n",
      "with facilities for running those works, provided that you comply with\n",
      "the terms of this License in conveying all material for which you do\n",
      "not control copyright.  Those thus making or running the covered works\n",
      "for you must do so exclusively on your behalf, under your direction\n",
      "and control, on terms that prohibit them from making any copies of\n",
      "your copyrighted material outside their relationship with you.\n",
      "\n",
      "  Conveying under any other circumstances is permitted solely under\n",
      "the conditions stated below.  Sublicensing is not allowed; section 10\n",
      "makes it unnecessary.\n",
      "\n",
      "  3. Protecting Users' Legal Rights From Anti-Circumvention Law.\n",
      "\n",
      "  No covered work shall be deemed part of an effective technological\n",
      "measure under any applicable law fulfilling obligations under article\n",
      "11 of the WIPO copyright treaty adopted on 20 December 1996, or\n",
      "similar laws prohibiting or restricting circumvention of such\n",
      "measures.\n",
      "\n",
      "  When you convey a covered work, you waive any legal power to forbid\n",
      "circumvention of technological measures to the extent such circumvention\n",
      "is effected by exercising rights under this License with respect to\n",
      "the covered work, and you disclaim any intention to limit operation or\n",
      "modification of the work as a means of enforcing, against the work's\n",
      "users, your or third parties' legal rights to forbid circumvention of\n",
      "technological measures.\n",
      "\n",
      "  4. Conveying Verbatim Copies.\n",
      "\n",
      "  You may convey verbatim copies of the Program's source code as you\n",
      "receive it, in any medium, provided that you conspicuously and\n",
      "appropriately publish on each copy an appropriate copyright notice;\n",
      "keep intact all notices stating that this License and any\n",
      "non-permissive terms added in accord with section 7 apply to the code;\n",
      "keep intact all notices of the absence of any warranty; and give all\n",
      "recipients a copy of this License along with the Program.\n",
      "\n",
      "  You may charge any price or no price for each copy that you convey,\n",
      "and you may offer support or warranty protection for a fee.\n",
      "\n",
      "  5. Conveying Modified Source Versions.\n",
      "\n",
      "  You may convey a work based on the Program, or the modifications to\n",
      "produce it from the Program, in the form of source code under the\n",
      "terms of section 4, provided that you also meet all of these conditions:\n",
      "\n",
      "    a) The work must carry prominent notices stating that you modified\n",
      "    it, and giving a relevant date.\n",
      "\n",
      "    b) The work must carry prominent notices stating that it is\n",
      "    released under this License and any conditions added under section\n",
      "    7.  This requirement modifies the requirement in section 4 to\n",
      "    \"keep intact all notices\".\n",
      "\n",
      "    c) You must license the entire work, as a whole, under this\n",
      "    License to anyone who comes into possession of a copy.  This\n",
      "    License will therefore apply, along with any applicable section 7\n",
      "    additional terms, to the whole of the work, and all its parts,\n",
      "    regardless of how they are packaged.  This License gives no\n",
      "    permission to license the work in any other way, but it does not\n",
      "    invalidate such permission if you have separately received it.\n",
      "\n",
      "    d) If the work has interactive user interfaces, each must display\n",
      "    Appropriate Legal Notices; however, if the Program has interactive\n",
      "    interfaces that do not display Appropriate Legal Notices, your\n",
      "    work need not make them do so.\n",
      "\n",
      "  A compilation of a covered work with other separate and independent\n",
      "works, which are not by their nature extensions of the covered work,\n",
      "and which are not combined with it such as to form a larger program,\n",
      "in or on a volume of a storage or distribution medium, is called an\n",
      "\"aggregate\" if the compilation and its resulting copyright are not\n",
      "used to limit the access or legal rights of the compilation's users\n",
      "beyond what the individual works permit.  Inclusion of a covered work\n",
      "in an aggregate does not cause this License to apply to the other\n",
      "parts of the aggregate.\n",
      "\n",
      "  6. Conveying Non-Source Forms.\n",
      "\n",
      "  You may convey a covered work in object code form under the terms\n",
      "of sections 4 and 5, provided that you also convey the\n",
      "machine-readable Corresponding Source under the terms of this License,\n",
      "in one of these ways:\n",
      "\n",
      "    a) Convey the object code in, or embodied in, a physical product\n",
      "    (including a physical distribution medium), accompanied by the\n",
      "    Corresponding Source fixed on a durable physical medium\n",
      "    customarily used for software interchange.\n",
      "\n",
      "    b) Convey the object code in, or embodied in, a physical product\n",
      "    (including a physical distribution medium), accompanied by a\n",
      "    written offer, valid for at least three years and valid for as\n",
      "    long as you offer spare parts or customer support for that product\n",
      "    model, to give anyone who possesses the object code either (1) a\n",
      "    copy of the Corresponding Source for all the software in the\n",
      "    product that is covered by this License, on a durable physical\n",
      "    medium customarily used for software interchange, for a price no\n",
      "    more than your reasonable cost of physically performing this\n",
      "    conveying of source, or (2) access to copy the\n",
      "    Corresponding Source from a network server at no charge.\n",
      "\n",
      "    c) Convey individual copies of the object code with a copy of the\n",
      "    written offer to provide the Corresponding Source.  This\n",
      "    alternative is allowed only occasionally and noncommercially, and\n",
      "    only if you received the object code with such an offer, in accord\n",
      "    with subsection 6b.\n",
      "\n",
      "    d) Convey the object code by offering access from a designated\n",
      "    place (gratis or for a charge), and offer equivalent access to the\n",
      "    Corresponding Source in the same way through the same place at no\n",
      "    further charge.  You need not require recipients to copy the\n",
      "    Corresponding Source along with the object code.  If the place to\n",
      "    copy the object code is a network server, the Corresponding Source\n",
      "    may be on a different server (operated by you or a third party)\n",
      "    that supports equivalent copying facilities, provided you maintain\n",
      "    clear directions next to the object code saying where to find the\n",
      "    Corresponding Source.  Regardless of what server hosts the\n",
      "    Corresponding Source, you remain obligated to ensure that it is\n",
      "    available for as long as needed to satisfy these requirements.\n",
      "\n",
      "    e) Convey the object code using peer-to-peer transmission, provided\n",
      "    you inform other peers where the object code and Corresponding\n",
      "    Source of the work are being offered to the general public at no\n",
      "    charge under subsection 6d.\n",
      "\n",
      "  A separable portion of the object code, whose source code is excluded\n",
      "from the Corresponding Source as a System Library, need not be\n",
      "included in conveying the object code work.\n",
      "\n",
      "  A \"User Product\" is either (1) a \"consumer product\", which means any\n",
      "tangible personal property which is normally used for personal, family,\n",
      "or household purposes, or (2) anything designed or sold for incorporation\n",
      "into a dwelling.  In determining whether a product is a consumer product,\n",
      "doubtful cases shall be resolved in favor of coverage.  For a particular\n",
      "product received by a particular user, \"normally used\" refers to a\n",
      "typical or common use of that class of product, regardless of the status\n",
      "of the particular user or of the way in which the particular user\n",
      "actually uses, or expects or is expected to use, the product.  A product\n",
      "is a consumer product regardless of whether the product has substantial\n",
      "commercial, industrial or non-consumer uses, unless such uses represent\n",
      "the only significant mode of use of the product.\n",
      "\n",
      "  \"Installation Information\" for a User Product means any methods,\n",
      "procedures, authorization keys, or other information required to install\n",
      "and execute modified versions of a covered work in that User Product from\n",
      "a modified version of its Corresponding Source.  The information must\n",
      "suffice to ensure that the continued functioning of the modified object\n",
      "code is in no case prevented or interfered with solely because\n",
      "modification has been made.\n",
      "\n",
      "  If you convey an object code work under this section in, or with, or\n",
      "specifically for use in, a User Product, and the conveying occurs as\n",
      "part of a transaction in which the right of possession and use of the\n",
      "User Product is transferred to the recipient in perpetuity or for a\n",
      "fixed term (regardless of how the transaction is characterized), the\n",
      "Corresponding Source conveyed under this section must be accompanied\n",
      "by the Installation Information.  But this requirement does not apply\n",
      "if neither you nor any third party retains the ability to install\n",
      "modified object code on the User Product (for example, the work has\n",
      "been installed in ROM).\n",
      "\n",
      "  The requirement to provide Installation Information does not include a\n",
      "requirement to continue to provide support service, warranty, or updates\n",
      "for a work that has been modified or installed by the recipient, or for\n",
      "the User Product in which it has been modified or installed.  Access to a\n",
      "network may be denied when the modification itself materially and\n",
      "adversely affects the operation of the network or violates the rules and\n",
      "protocols for communication across the network.\n",
      "\n",
      "  Corresponding Source conveyed, and Installation Information provided,\n",
      "in accord with this section must be in a format that is publicly\n",
      "documented (and with an implementation available to the public in\n",
      "source code form), and must require no special password or key for\n",
      "unpacking, reading or copying.\n",
      "\n",
      "  7. Additional Terms.\n",
      "\n",
      "  \"Additional permissions\" are terms that supplement the terms of this\n",
      "License by making exceptions from one or more of its conditions.\n",
      "Additional permissions that are applicable to the entire Program shall\n",
      "be treated as though they were included in this License, to the extent\n",
      "that they are valid under applicable law.  If additional permissions\n",
      "apply only to part of the Program, that part may be used separately\n",
      "under those permissions, but the entire Program remains governed by\n",
      "this License without regard to the additional permissions.\n",
      "\n",
      "  When you convey a copy of a covered work, you may at your option\n",
      "remove any additional permissions from that copy, or from any part of\n",
      "it.  (Additional permissions may be written to require their own\n",
      "removal in certain cases when you modify the work.)  You may place\n",
      "additional permissions on material, added by you to a covered work,\n",
      "for which you have or can give appropriate copyright permission.\n",
      "\n",
      "  Notwithstanding any other provision of this License, for material you\n",
      "add to a covered work, you may (if authorized by the copyright holders of\n",
      "that material) supplement the terms of this License with terms:\n",
      "\n",
      "    a) Disclaiming warranty or limiting liability differently from the\n",
      "    terms of sections 15 and 16 of this License; or\n",
      "\n",
      "    b) Requiring preservation of specified reasonable legal notices or\n",
      "    author attributions in that material or in the Appropriate Legal\n",
      "    Notices displayed by works containing it; or\n",
      "\n",
      "    c) Prohibiting misrepresentation of the origin of that material, or\n",
      "    requiring that modified versions of such material be marked in\n",
      "    reasonable ways as different from the original version; or\n",
      "\n",
      "    d) Limiting the use for publicity purposes of names of licensors or\n",
      "    authors of the material; or\n",
      "\n",
      "    e) Declining to grant rights under trademark law for use of some\n",
      "    trade names, trademarks, or service marks; or\n",
      "\n",
      "    f) Requiring indemnification of licensors and authors of that\n",
      "    material by anyone who conveys the material (or modified versions of\n",
      "    it) with contractual assumptions of liability to the recipient, for\n",
      "    any liability that these contractual assumptions directly impose on\n",
      "    those licensors and authors.\n",
      "\n",
      "  All other non-permissive additional terms are considered \"further\n",
      "restrictions\" within the meaning of section 10.  If the Program as you\n",
      "received it, or any part of it, contains a notice stating that it is\n",
      "governed by this License along with a term that is a further\n",
      "restriction, you may remove that term.  If a license document contains\n",
      "a further restriction but permits relicensing or conveying under this\n",
      "License, you may add to a covered work material governed by the terms\n",
      "of that license document, provided that the further restriction does\n",
      "not survive such relicensing or conveying.\n",
      "\n",
      "  If you add terms to a covered work in accord with this section, you\n",
      "must place, in the relevant source files, a statement of the\n",
      "additional terms that apply to those files, or a notice indicating\n",
      "where to find the applicable terms.\n",
      "\n",
      "  Additional terms, permissive or non-permissive, may be stated in the\n",
      "form of a separately written license, or stated as exceptions;\n",
      "the above requirements apply either way.\n",
      "\n",
      "  8. Termination.\n",
      "\n",
      "  You may not propagate or modify a covered work except as expressly\n",
      "provided under this License.  Any attempt otherwise to propagate or\n",
      "modify it is void, and will automatically terminate your rights under\n",
      "this License (including any patent licenses granted under the third\n",
      "paragraph of section 11).\n",
      "\n",
      "  However, if you cease all violation of this License, then your\n",
      "license from a particular copyright holder is reinstated (a)\n",
      "provisionally, unless and until the copyright holder explicitly and\n",
      "finally terminates your license, and (b) permanently, if the copyright\n",
      "holder fails to notify you of the violation by some reasonable means\n",
      "prior to 60 days after the cessation.\n",
      "\n",
      "  Moreover, your license from a particular copyright holder is\n",
      "reinstated permanently if the copyright holder notifies you of the\n",
      "violation by some reasonable means, this is the first time you have\n",
      "received notice of violation of this License (for any work) from that\n",
      "copyright holder, and you cure the violation prior to 30 days after\n",
      "your receipt of the notice.\n",
      "\n",
      "  Termination of your rights under this section does not terminate the\n",
      "licenses of parties who have received copies or rights from you under\n",
      "this License.  If your rights have been terminated and not permanently\n",
      "reinstated, you do not qualify to receive new licenses for the same\n",
      "material under section 10.\n",
      "\n",
      "  9. Acceptance Not Required for Having Copies.\n",
      "\n",
      "  You are not required to accept this License in order to receive or\n",
      "run a copy of the Program.  Ancillary propagation of a covered work\n",
      "occurring solely as a consequence of using peer-to-peer transmission\n",
      "to receive a copy likewise does not require acceptance.  However,\n",
      "nothing other than this License grants you permission to propagate or\n",
      "modify any covered work.  These actions infringe copyright if you do\n",
      "not accept this License.  Therefore, by modifying or propagating a\n",
      "covered work, you indicate your acceptance of this License to do so.\n",
      "\n",
      "  10. Automatic Licensing of Downstream Recipients.\n",
      "\n",
      "  Each time you convey a covered work, the recipient automatically\n",
      "receives a license from the original licensors, to run, modify and\n",
      "propagate that work, subject to this License.  You are not responsible\n",
      "for enforcing compliance by third parties with this License.\n",
      "\n",
      "  An \"entity transaction\" is a transaction transferring control of an\n",
      "organization, or substantially all assets of one, or subdividing an\n",
      "organization, or merging organizations.  If propagation of a covered\n",
      "work results from an entity transaction, each party to that\n",
      "transaction who receives a copy of the work also receives whatever\n",
      "licenses to the work the party's predecessor in interest had or could\n",
      "give under the previous paragraph, plus a right to possession of the\n",
      "Corresponding Source of the work from the predecessor in interest, if\n",
      "the predecessor has it or can get it with reasonable efforts.\n",
      "\n",
      "  You may not impose any further restrictions on the exercise of the\n",
      "rights granted or affirmed under this License.  For example, you may\n",
      "not impose a license fee, royalty, or other charge for exercise of\n",
      "rights granted under this License, and you may not initiate litigation\n",
      "(including a cross-claim or counterclaim in a lawsuit) alleging that\n",
      "any patent claim is infringed by making, using, selling, offering for\n",
      "sale, or importing the Program or any portion of it.\n",
      "\n",
      "  11. Patents.\n",
      "\n",
      "  A \"contributor\" is a copyright holder who authorizes use under this\n",
      "License of the Program or a work on which the Program is based.  The\n",
      "work thus licensed is called the contributor's \"contributor version\".\n",
      "\n",
      "  A contributor's \"essential patent claims\" are all patent claims\n",
      "owned or controlled by the contributor, whether already acquired or\n",
      "hereafter acquired, that would be infringed by some manner, permitted\n",
      "by this License, of making, using, or selling its contributor version,\n",
      "but do not include claims that would be infringed only as a\n",
      "consequence of further modification of the contributor version.  For\n",
      "purposes of this definition, \"control\" includes the right to grant\n",
      "patent sublicenses in a manner consistent with the requirements of\n",
      "this License.\n",
      "\n",
      "  Each contributor grants you a non-exclusive, worldwide, royalty-free\n",
      "patent license under the contributor's essential patent claims, to\n",
      "make, use, sell, offer for sale, import and otherwise run, modify and\n",
      "propagate the contents of its contributor version.\n",
      "\n",
      "  In the following three paragraphs, a \"patent license\" is any express\n",
      "agreement or commitment, however denominated, not to enforce a patent\n",
      "(such as an express permission to practice a patent or covenant not to\n",
      "sue for patent infringement).  To \"grant\" such a patent license to a\n",
      "party means to make such an agreement or commitment not to enforce a\n",
      "patent against the party.\n",
      "\n",
      "  If you convey a covered work, knowingly relying on a patent license,\n",
      "and the Corresponding Source of the work is not available for anyone\n",
      "to copy, free of charge and under the terms of this License, through a\n",
      "publicly available network server or other readily accessible means,\n",
      "then you must either (1) cause the Corresponding Source to be so\n",
      "available, or (2) arrange to deprive yourself of the benefit of the\n",
      "patent license for this particular work, or (3) arrange, in a manner\n",
      "consistent with the requirements of this License, to extend the patent\n",
      "license to downstream recipients.  \"Knowingly relying\" means you have\n",
      "actual knowledge that, but for the patent license, your conveying the\n",
      "covered work in a country, or your recipient's use of the covered work\n",
      "in a country, would infringe one or more identifiable patents in that\n",
      "country that you have reason to believe are valid.\n",
      "\n",
      "  If, pursuant to or in connection with a single transaction or\n",
      "arrangement, you convey, or propagate by procuring conveyance of, a\n",
      "covered work, and grant a patent license to some of the parties\n",
      "receiving the covered work authorizing them to use, propagate, modify\n",
      "or convey a specific copy of the covered work, then the patent license\n",
      "you grant is automatically extended to all recipients of the covered\n",
      "work and works based on it.\n",
      "\n",
      "  A patent license is \"discriminatory\" if it does not include within\n",
      "the scope of its coverage, prohibits the exercise of, or is\n",
      "conditioned on the non-exercise of one or more of the rights that are\n",
      "specifically granted under this License.  You may not convey a covered\n",
      "work if you are a party to an arrangement with a third party that is\n",
      "in the business of distributing software, under which you make payment\n",
      "to the third party based on the extent of your activity of conveying\n",
      "the work, and under which the third party grants, to any of the\n",
      "parties who would receive the covered work from you, a discriminatory\n",
      "patent license (a) in connection with copies of the covered work\n",
      "conveyed by you (or copies made from those copies), or (b) primarily\n",
      "for and in connection with specific products or compilations that\n",
      "contain the covered work, unless you entered into that arrangement,\n",
      "or that patent license was granted, prior to 28 March 2007.\n",
      "\n",
      "  Nothing in this License shall be construed as excluding or limiting\n",
      "any implied license or other defenses to infringement that may\n",
      "otherwise be available to you under applicable patent law.\n",
      "\n",
      "  12. No Surrender of Others' Freedom.\n",
      "\n",
      "  If conditions are imposed on you (whether by court order, agreement or\n",
      "otherwise) that contradict the conditions of this License, they do not\n",
      "excuse you from the conditions of this License.  If you cannot convey a\n",
      "covered work so as to satisfy simultaneously your obligations under this\n",
      "License and any other pertinent obligations, then as a consequence you may\n",
      "not convey it at all.  For example, if you agree to terms that obligate you\n",
      "to collect a royalty for further conveying from those to whom you convey\n",
      "the Program, the only way you could satisfy both those terms and this\n",
      "License would be to refrain entirely from conveying the Program.\n",
      "\n",
      "  13. Use with the GNU Affero General Public License.\n",
      "\n",
      "  Notwithstanding any other provision of this License, you have\n",
      "permission to link or combine any covered work with a work licensed\n",
      "under version 3 of the GNU Affero General Public License into a single\n",
      "combined work, and to convey the resulting work.  The terms of this\n",
      "License will continue to apply to the part which is the covered work,\n",
      "but the special requirements of the GNU Affero General Public License,\n",
      "section 13, concerning interaction through a network will apply to the\n",
      "combination as such.\n",
      "\n",
      "  14. Revised Versions of this License.\n",
      "\n",
      "  The Free Software Foundation may publish revised and/or new versions of\n",
      "the GNU General Public License from time to time.  Such new versions will\n",
      "be similar in spirit to the present version, but may differ in detail to\n",
      "address new problems or concerns.\n",
      "\n",
      "  Each version is given a distinguishing version number.  If the\n",
      "Program specifies that a certain numbered version of the GNU General\n",
      "Public License \"or any later version\" applies to it, you have the\n",
      "option of following the terms and conditions either of that numbered\n",
      "version or of any later version published by the Free Software\n",
      "Foundation.  If the Program does not specify a version number of the\n",
      "GNU General Public License, you may choose any version ever published\n",
      "by the Free Software Foundation.\n",
      "\n",
      "  If the Program specifies that a proxy can decide which future\n",
      "versions of the GNU General Public License can be used, that proxy's\n",
      "public statement of acceptance of a version permanently authorizes you\n",
      "to choose that version for the Program.\n",
      "\n",
      "  Later license versions may give you additional or different\n",
      "permissions.  However, no additional obligations are imposed on any\n",
      "author or copyright holder as a result of your choosing to follow a\n",
      "later version.\n",
      "\n",
      "  15. Disclaimer of Warranty.\n",
      "\n",
      "  THERE IS NO WARRANTY FOR THE PROGRAM, TO THE EXTENT PERMITTED BY\n",
      "APPLICABLE LAW.  EXCEPT WHEN OTHERWISE STATED IN WRITING THE COPYRIGHT\n",
      "HOLDERS AND/OR OTHER PARTIES PROVIDE THE PROGRAM \"AS IS\" WITHOUT WARRANTY\n",
      "OF ANY KIND, EITHER EXPRESSED OR IMPLIED, INCLUDING, BUT NOT LIMITED TO,\n",
      "THE IMPLIED WARRANTIES OF MERCHANTABILITY AND FITNESS FOR A PARTICULAR\n",
      "PURPOSE.  THE ENTIRE RISK AS TO THE QUALITY AND PERFORMANCE OF THE PROGRAM\n",
      "IS WITH YOU.  SHOULD THE PROGRAM PROVE DEFECTIVE, YOU ASSUME THE COST OF\n",
      "ALL NECESSARY SERVICING, REPAIR OR CORRECTION.\n",
      "\n",
      "  16. Limitation of Liability.\n",
      "\n",
      "  IN NO EVENT UNLESS REQUIRED BY APPLICABLE LAW OR AGREED TO IN WRITING\n",
      "WILL ANY COPYRIGHT HOLDER, OR ANY OTHER PARTY WHO MODIFIES AND/OR CONVEYS\n",
      "THE PROGRAM AS PERMITTED ABOVE, BE LIABLE TO YOU FOR DAMAGES, INCLUDING ANY\n",
      "GENERAL, SPECIAL, INCIDENTAL OR CONSEQUENTIAL DAMAGES ARISING OUT OF THE\n",
      "USE OR INABILITY TO USE THE PROGRAM (INCLUDING BUT NOT LIMITED TO LOSS OF\n",
      "DATA OR DATA BEING RENDERED INACCURATE OR LOSSES SUSTAINED BY YOU OR THIRD\n",
      "PARTIES OR A FAILURE OF THE PROGRAM TO OPERATE WITH ANY OTHER PROGRAMS),\n",
      "EVEN IF SUCH HOLDER OR OTHER PARTY HAS BEEN ADVISED OF THE POSSIBILITY OF\n",
      "SUCH DAMAGES.\n",
      "\n",
      "  17. Interpretation of Sections 15 and 16.\n",
      "\n",
      "  If the disclaimer of warranty and limitation of liability provided\n",
      "above cannot be given local legal effect according to their terms,\n",
      "reviewing courts shall apply local law that most closely approximates\n",
      "an absolute waiver of all civil liability in connection with the\n",
      "Program, unless a warranty or assumption of liability accompanies a\n",
      "copy of the Program in return for a fee.\n",
      "\n",
      "                     END OF TERMS AND CONDITIONS\n",
      "\n",
      "            How to Apply These Terms to Your New Programs\n",
      "\n",
      "  If you develop a new program, and you want it to be of the greatest\n",
      "possible use to the public, the best way to achieve this is to make it\n",
      "free software which everyone can redistribute and change under these terms.\n",
      "\n",
      "  To do so, attach the following notices to the program.  It is safest\n",
      "to attach them to the start of each source file to most effectively\n",
      "state the exclusion of warranty; and each file should have at least\n",
      "the \"copyright\" line and a pointer to where the full notice is found.\n",
      "\n",
      "    <one line to give the program's name and a brief idea of what it does.>\n",
      "    Copyright (C) <year>  <name of author>\n",
      "\n",
      "    This program is free software: you can redistribute it and/or modify\n",
      "    it under the terms of the GNU General Public License as published by\n",
      "    the Free Software Foundation, either version 3 of the License, or\n",
      "    (at your option) any later version.\n",
      "\n",
      "    This program is distributed in the hope that it will be useful,\n",
      "    but WITHOUT ANY WARRANTY; without even the implied warranty of\n",
      "    MERCHANTABILITY or FITNESS FOR A PARTICULAR PURPOSE.  See the\n",
      "    GNU General Public License for more details.\n",
      "\n",
      "    You should have received a copy of the GNU General Public License\n",
      "    along with this program.  If not, see <http://www.gnu.org/licenses/>.\n",
      "\n",
      "Also add information on how to contact you by electronic and paper mail.\n",
      "\n",
      "  If the program does terminal interaction, make it output a short\n",
      "notice like this when it starts in an interactive mode:\n",
      "\n",
      "    <program>  Copyright (C) <year>  <name of author>\n",
      "    This program comes with ABSOLUTELY NO WARRANTY; for details type `show w'.\n",
      "    This is free software, and you are welcome to redistribute it\n",
      "    under certain conditions; type `show c' for details.\n",
      "\n",
      "The hypothetical commands `show w' and `show c' should show the appropriate\n",
      "parts of the General Public License.  Of course, your program's commands\n",
      "might be different; for a GUI interface, you would use an \"about box\".\n",
      "\n",
      "  You should also get your employer (if you work as a programmer) or school,\n",
      "if any, to sign a \"copyright disclaimer\" for the program, if necessary.\n",
      "For more information on this, and how to apply and follow the GNU GPL, see\n",
      "<http://www.gnu.org/licenses/>.\n",
      "\n",
      "  The GNU General Public License does not permit incorporating your program\n",
      "into proprietary programs.  If your program is a subroutine library, you\n",
      "may consider it more useful to permit linking proprietary applications with\n",
      "the library.  If this is what you want to do, use the GNU Lesser General\n",
      "Public License instead of this License.  But first, please read\n",
      "<http://www.gnu.org/philosophy/why-not-lgpl.html>.\n",
      "Location: C:\\Users\\hp\\AppData\\Local\\Programs\\Python\\Python311\\Lib\\site-packages\n",
      "Requires: \n",
      "Required-by: chroma-hnswlib, chromadb, contourpy, ctranslate2, datasets, descript-audio-codec, descript-audiotools, encodec, h5py, imageio, langchain, langchain-chroma, langchain-community, librosa, matplotlib, ml-dtypes, numba, onnxruntime, opencv-python, opencv-python-headless, opt-einsum, pandas, pgvector, pyloudnorm, pystoi, qdrant-client, rank-bm25, rapidocr-onnxruntime, scikit-learn, scipy, seaborn, shapely, soxr, suno-bark, tensorboard, tensorflow-intel, torch-stoi, torchvision, transformers, unstructured\n"
     ]
    }
   ],
   "source": [
    "!pip show numpy"
   ]
  },
  {
   "cell_type": "code",
   "execution_count": 22,
   "metadata": {},
   "outputs": [],
   "source": [
    "import numpy as np"
   ]
  },
  {
   "cell_type": "code",
   "execution_count": 23,
   "metadata": {},
   "outputs": [
    {
     "name": "stdout",
     "output_type": "stream",
     "text": [
      "CPU times: total: 0 ns\n",
      "Wall time: 0 ns\n",
      "[1, 2, 3, 4, 5]\n",
      "2\n",
      "[2, 3, 4]\n",
      "5\n",
      "<class 'list'>\n",
      "[1, 2, 10, 4, 5]\n"
     ]
    }
   ],
   "source": [
    "%time\n",
    "# List\n",
    "a = [1,2,3,4,5]\n",
    "print(a)\n",
    "print(a[1])\n",
    "print(a[1:4])\n",
    "print(a[-1])\n",
    "print(type(a))\n",
    "a[2] = 10\n",
    "print(a)"
   ]
  },
  {
   "cell_type": "code",
   "execution_count": 24,
   "metadata": {},
   "outputs": [
    {
     "name": "stdout",
     "output_type": "stream",
     "text": [
      "CPU times: total: 0 ns\n",
      "Wall time: 0 ns\n",
      "[1 2 3 4 5]\n",
      "2\n",
      "[2 3 4]\n",
      "5\n",
      "<class 'numpy.ndarray'>\n",
      "[ 1  2 10  4  5]\n"
     ]
    }
   ],
   "source": [
    "%time\n",
    "# Numpy array\n",
    "a = np.array([1,2,3,4,5])\n",
    "print(a)\n",
    "print(a[1])\n",
    "print(a[1:4])\n",
    "print(a[-1])\n",
    "print(type(a))\n",
    "a[2] = 10\n",
    "print(a)"
   ]
  },
  {
   "cell_type": "code",
   "execution_count": 25,
   "metadata": {},
   "outputs": [
    {
     "name": "stdout",
     "output_type": "stream",
     "text": [
      "CPU times: total: 0 ns\n",
      "Wall time: 0 ns\n",
      "[[1 2 3 1]\n",
      " [4 5 6 1]\n",
      " [7 8 9 1]]\n",
      "(3, 4)\n",
      "2\n",
      "12\n",
      "int32\n"
     ]
    }
   ],
   "source": [
    "%time\n",
    "a_mul = np.array([[1,2,3,1],\n",
    "                  [4,5,6,1],\n",
    "                  [7,8,9,1]])\n",
    "print(a_mul)\n",
    "print(a_mul.shape)\n",
    "print(a_mul.ndim)\n",
    "print(a_mul.size)\n",
    "print(a_mul.dtype)"
   ]
  },
  {
   "cell_type": "code",
   "execution_count": 26,
   "metadata": {},
   "outputs": [
    {
     "name": "stdout",
     "output_type": "stream",
     "text": [
      "CPU times: total: 0 ns\n",
      "Wall time: 0 ns\n",
      "[[[1 2 3 1]\n",
      "  [4 5 6 1]\n",
      "  [7 8 9 1]]\n",
      "\n",
      " [[1 1 1 1]\n",
      "  [1 1 1 1]\n",
      "  [1 1 1 1]]]\n",
      "(2, 3, 4)\n",
      "3\n",
      "24\n",
      "int32\n"
     ]
    }
   ],
   "source": [
    "%time\n",
    "a_mul = np.array([[[1,2,3,1],\n",
    "                  [4,5,6,1],\n",
    "                  [7,8,9,1]],\n",
    "                 [[1,1,1,1],\n",
    "                  [1,1,1,1],\n",
    "                  [1,1,1,1]]])\n",
    "print(a_mul)\n",
    "print(a_mul.shape)\n",
    "print(a_mul.ndim)\n",
    "print(a_mul.size)\n",
    "print(a_mul.dtype)"
   ]
  },
  {
   "cell_type": "code",
   "execution_count": 27,
   "metadata": {},
   "outputs": [
    {
     "name": "stdout",
     "output_type": "stream",
     "text": [
      "<U11\n"
     ]
    }
   ],
   "source": [
    "a = np.array([[1,3,4],\n",
    "              [4,\"Hello\",6],\n",
    "              [7,8,9]])\n",
    "print(a.dtype)"
   ]
  },
  {
   "cell_type": "code",
   "execution_count": 28,
   "metadata": {},
   "outputs": [],
   "source": [
    "# <U11 : string less than 11 char"
   ]
  },
  {
   "cell_type": "code",
   "execution_count": 29,
   "metadata": {},
   "outputs": [
    {
     "name": "stdout",
     "output_type": "stream",
     "text": [
      "1\n",
      "<class 'numpy.str_'>\n"
     ]
    }
   ],
   "source": [
    "print(a[0][0])\n",
    "print(type(a[0][0]))"
   ]
  },
  {
   "cell_type": "code",
   "execution_count": 30,
   "metadata": {},
   "outputs": [
    {
     "name": "stdout",
     "output_type": "stream",
     "text": [
      "<U1\n"
     ]
    }
   ],
   "source": [
    "print(a[0][0].dtype)"
   ]
  },
  {
   "cell_type": "code",
   "execution_count": null,
   "metadata": {},
   "outputs": [
    {
     "ename": "ValueError",
     "evalue": "invalid literal for int() with base 10: 'Hello'",
     "output_type": "error",
     "traceback": [
      "\u001b[1;31m---------------------------------------------------------------------------\u001b[0m",
      "\u001b[1;31mValueError\u001b[0m                                Traceback (most recent call last)",
      "Cell \u001b[1;32mIn[31], line 1\u001b[0m\n\u001b[1;32m----> 1\u001b[0m a \u001b[38;5;241m=\u001b[39m \u001b[43mnp\u001b[49m\u001b[38;5;241;43m.\u001b[39;49m\u001b[43marray\u001b[49m\u001b[43m(\u001b[49m\u001b[43m[\u001b[49m\u001b[43m[\u001b[49m\u001b[38;5;241;43m1\u001b[39;49m\u001b[43m,\u001b[49m\u001b[38;5;241;43m3\u001b[39;49m\u001b[43m,\u001b[49m\u001b[38;5;241;43m4\u001b[39;49m\u001b[43m]\u001b[49m\u001b[43m,\u001b[49m\n\u001b[0;32m      2\u001b[0m \u001b[43m              \u001b[49m\u001b[43m[\u001b[49m\u001b[38;5;241;43m4\u001b[39;49m\u001b[43m,\u001b[49m\u001b[38;5;124;43m\"\u001b[39;49m\u001b[38;5;124;43mHello\u001b[39;49m\u001b[38;5;124;43m\"\u001b[39;49m\u001b[43m,\u001b[49m\u001b[38;5;241;43m6\u001b[39;49m\u001b[43m]\u001b[49m\u001b[43m,\u001b[49m\n\u001b[0;32m      3\u001b[0m \u001b[43m              \u001b[49m\u001b[43m[\u001b[49m\u001b[38;5;241;43m7\u001b[39;49m\u001b[43m,\u001b[49m\u001b[38;5;241;43m8\u001b[39;49m\u001b[43m,\u001b[49m\u001b[38;5;241;43m9\u001b[39;49m\u001b[43m]\u001b[49m\u001b[43m]\u001b[49m\u001b[43m,\u001b[49m\u001b[43m \u001b[49m\u001b[43mdtype\u001b[49m\u001b[38;5;241;43m=\u001b[39;49m\u001b[43mnp\u001b[49m\u001b[38;5;241;43m.\u001b[39;49m\u001b[43mint32\u001b[49m\u001b[43m)\u001b[49m\n\u001b[0;32m      4\u001b[0m \u001b[38;5;28mprint\u001b[39m(a\u001b[38;5;241m.\u001b[39mdtype)\n",
      "\u001b[1;31mValueError\u001b[0m: invalid literal for int() with base 10: 'Hello'"
     ]
    }
   ],
   "source": [
    "# a = np.array([[1,3,4],\n",
    "#               [4,\"Hello\",6],\n",
    "#               [7,8,9]], dtype=np.int32)\n",
    "# print(a.dtype)"
   ]
  },
  {
   "cell_type": "code",
   "execution_count": 32,
   "metadata": {},
   "outputs": [
    {
     "name": "stdout",
     "output_type": "stream",
     "text": [
      "int32\n"
     ]
    }
   ],
   "source": [
    "a = np.array([[1,3,4],\n",
    "              [4,\"5\",6],\n",
    "              [7,8,9]], dtype=np.int32)\n",
    "print(a.dtype)"
   ]
  },
  {
   "cell_type": "code",
   "execution_count": 33,
   "metadata": {},
   "outputs": [
    {
     "name": "stdout",
     "output_type": "stream",
     "text": [
      "<U11\n"
     ]
    }
   ],
   "source": [
    "a = np.array([[1,3,4],\n",
    "              [4,\"5\",6],\n",
    "              [7,8,9]])\n",
    "print(a.dtype)"
   ]
  },
  {
   "cell_type": "code",
   "execution_count": 36,
   "metadata": {},
   "outputs": [
    {
     "name": "stdout",
     "output_type": "stream",
     "text": [
      "float32\n",
      "float32\n",
      "1.0\n"
     ]
    }
   ],
   "source": [
    "a = np.array([[1,3,4],\n",
    "              [4,\"5\",6],\n",
    "              [7,8,9]], dtype=np.float32)\n",
    "print(a.dtype)\n",
    "print(a[0][0].dtype)\n",
    "print(a[0][0])"
   ]
  },
  {
   "cell_type": "code",
   "execution_count": 41,
   "metadata": {},
   "outputs": [
    {
     "name": "stdout",
     "output_type": "stream",
     "text": [
      "object\n",
      "4\n",
      "<class 'int'>\n"
     ]
    }
   ],
   "source": [
    "d = {'1':'A'}\n",
    "a = np.array([[1,3,4],\n",
    "              [4,d,6],\n",
    "              [7,8,9]])\n",
    "print(a.dtype)\n",
    "print(a[1][0])\n",
    "print(type(a[1][0]))"
   ]
  },
  {
   "cell_type": "code",
   "execution_count": 42,
   "metadata": {},
   "outputs": [],
   "source": [
    "# more different datatype -> less efficient"
   ]
  },
  {
   "cell_type": "code",
   "execution_count": null,
   "metadata": {},
   "outputs": [
    {
     "name": "stdout",
     "output_type": "stream",
     "text": [
      "<U7\n",
      "<U1\n",
      "1\n"
     ]
    }
   ],
   "source": [
    "a = np.array([[1,3,4],\n",
    "              [4,\"5\",6],\n",
    "              [7,8,9]], dtype=\"<U7\")\n",
    "print(a.dtype)\n",
    "print(a[0][0].dtype)\n",
    "print(a[0][0])"
   ]
  },
  {
   "cell_type": "code",
   "execution_count": 46,
   "metadata": {},
   "outputs": [
    {
     "name": "stdout",
     "output_type": "stream",
     "text": [
      "[[[[9 9]\n",
      "   [9 9]\n",
      "   [9 9]\n",
      "   [9 9]]\n",
      "\n",
      "  [[9 9]\n",
      "   [9 9]\n",
      "   [9 9]\n",
      "   [9 9]]\n",
      "\n",
      "  [[9 9]\n",
      "   [9 9]\n",
      "   [9 9]\n",
      "   [9 9]]]\n",
      "\n",
      "\n",
      " [[[9 9]\n",
      "   [9 9]\n",
      "   [9 9]\n",
      "   [9 9]]\n",
      "\n",
      "  [[9 9]\n",
      "   [9 9]\n",
      "   [9 9]\n",
      "   [9 9]]\n",
      "\n",
      "  [[9 9]\n",
      "   [9 9]\n",
      "   [9 9]\n",
      "   [9 9]]]]\n"
     ]
    }
   ],
   "source": [
    "a = np.full((2,3,4,2),9)\n",
    "print(a)"
   ]
  },
  {
   "cell_type": "code",
   "execution_count": 48,
   "metadata": {},
   "outputs": [
    {
     "name": "stdout",
     "output_type": "stream",
     "text": [
      "[[[0. 0.]\n",
      "  [0. 0.]\n",
      "  [0. 0.]\n",
      "  [0. 0.]\n",
      "  [0. 0.]]\n",
      "\n",
      " [[0. 0.]\n",
      "  [0. 0.]\n",
      "  [0. 0.]\n",
      "  [0. 0.]\n",
      "  [0. 0.]]\n",
      "\n",
      " [[0. 0.]\n",
      "  [0. 0.]\n",
      "  [0. 0.]\n",
      "  [0. 0.]\n",
      "  [0. 0.]]\n",
      "\n",
      " [[0. 0.]\n",
      "  [0. 0.]\n",
      "  [0. 0.]\n",
      "  [0. 0.]\n",
      "  [0. 0.]]\n",
      "\n",
      " [[0. 0.]\n",
      "  [0. 0.]\n",
      "  [0. 0.]\n",
      "  [0. 0.]\n",
      "  [0. 0.]]\n",
      "\n",
      " [[0. 0.]\n",
      "  [0. 0.]\n",
      "  [0. 0.]\n",
      "  [0. 0.]\n",
      "  [0. 0.]]\n",
      "\n",
      " [[0. 0.]\n",
      "  [0. 0.]\n",
      "  [0. 0.]\n",
      "  [0. 0.]\n",
      "  [0. 0.]]\n",
      "\n",
      " [[0. 0.]\n",
      "  [0. 0.]\n",
      "  [0. 0.]\n",
      "  [0. 0.]\n",
      "  [0. 0.]]\n",
      "\n",
      " [[0. 0.]\n",
      "  [0. 0.]\n",
      "  [0. 0.]\n",
      "  [0. 0.]\n",
      "  [0. 0.]]\n",
      "\n",
      " [[0. 0.]\n",
      "  [0. 0.]\n",
      "  [0. 0.]\n",
      "  [0. 0.]\n",
      "  [0. 0.]]]\n"
     ]
    }
   ],
   "source": [
    "a = np.zeros((10,5,2))\n",
    "print(a)"
   ]
  },
  {
   "cell_type": "code",
   "execution_count": 49,
   "metadata": {},
   "outputs": [
    {
     "name": "stdout",
     "output_type": "stream",
     "text": [
      "[[[1. 1.]\n",
      "  [1. 1.]\n",
      "  [1. 1.]\n",
      "  [1. 1.]\n",
      "  [1. 1.]]\n",
      "\n",
      " [[1. 1.]\n",
      "  [1. 1.]\n",
      "  [1. 1.]\n",
      "  [1. 1.]\n",
      "  [1. 1.]]\n",
      "\n",
      " [[1. 1.]\n",
      "  [1. 1.]\n",
      "  [1. 1.]\n",
      "  [1. 1.]\n",
      "  [1. 1.]]\n",
      "\n",
      " [[1. 1.]\n",
      "  [1. 1.]\n",
      "  [1. 1.]\n",
      "  [1. 1.]\n",
      "  [1. 1.]]\n",
      "\n",
      " [[1. 1.]\n",
      "  [1. 1.]\n",
      "  [1. 1.]\n",
      "  [1. 1.]\n",
      "  [1. 1.]]\n",
      "\n",
      " [[1. 1.]\n",
      "  [1. 1.]\n",
      "  [1. 1.]\n",
      "  [1. 1.]\n",
      "  [1. 1.]]\n",
      "\n",
      " [[1. 1.]\n",
      "  [1. 1.]\n",
      "  [1. 1.]\n",
      "  [1. 1.]\n",
      "  [1. 1.]]\n",
      "\n",
      " [[1. 1.]\n",
      "  [1. 1.]\n",
      "  [1. 1.]\n",
      "  [1. 1.]\n",
      "  [1. 1.]]\n",
      "\n",
      " [[1. 1.]\n",
      "  [1. 1.]\n",
      "  [1. 1.]\n",
      "  [1. 1.]\n",
      "  [1. 1.]]\n",
      "\n",
      " [[1. 1.]\n",
      "  [1. 1.]\n",
      "  [1. 1.]\n",
      "  [1. 1.]\n",
      "  [1. 1.]]]\n"
     ]
    }
   ],
   "source": [
    "a = np.ones((10,5,2))\n",
    "print(a)"
   ]
  },
  {
   "cell_type": "code",
   "execution_count": null,
   "metadata": {},
   "outputs": [
    {
     "name": "stdout",
     "output_type": "stream",
     "text": [
      "[[[1. 1.]\n",
      "  [1. 1.]\n",
      "  [1. 1.]\n",
      "  [1. 1.]\n",
      "  [1. 1.]]\n",
      "\n",
      " [[1. 1.]\n",
      "  [1. 1.]\n",
      "  [1. 1.]\n",
      "  [1. 1.]\n",
      "  [1. 1.]]\n",
      "\n",
      " [[1. 1.]\n",
      "  [1. 1.]\n",
      "  [1. 1.]\n",
      "  [1. 1.]\n",
      "  [1. 1.]]\n",
      "\n",
      " [[1. 1.]\n",
      "  [1. 1.]\n",
      "  [1. 1.]\n",
      "  [1. 1.]\n",
      "  [1. 1.]]\n",
      "\n",
      " [[1. 1.]\n",
      "  [1. 1.]\n",
      "  [1. 1.]\n",
      "  [1. 1.]\n",
      "  [1. 1.]]\n",
      "\n",
      " [[1. 1.]\n",
      "  [1. 1.]\n",
      "  [1. 1.]\n",
      "  [1. 1.]\n",
      "  [1. 1.]]\n",
      "\n",
      " [[1. 1.]\n",
      "  [1. 1.]\n",
      "  [1. 1.]\n",
      "  [1. 1.]\n",
      "  [1. 1.]]\n",
      "\n",
      " [[1. 1.]\n",
      "  [1. 1.]\n",
      "  [1. 1.]\n",
      "  [1. 1.]\n",
      "  [1. 1.]]\n",
      "\n",
      " [[1. 1.]\n",
      "  [1. 1.]\n",
      "  [1. 1.]\n",
      "  [1. 1.]\n",
      "  [1. 1.]]\n",
      "\n",
      " [[1. 1.]\n",
      "  [1. 1.]\n",
      "  [1. 1.]\n",
      "  [1. 1.]\n",
      "  [1. 1.]]]\n"
     ]
    }
   ],
   "source": [
    "a = np.empty((10,5,2)) # crates space\n",
    "print(a)"
   ]
  },
  {
   "cell_type": "code",
   "execution_count": 54,
   "metadata": {},
   "outputs": [
    {
     "name": "stdout",
     "output_type": "stream",
     "text": [
      "[   0    5   10   15   20   25   30   35   40   45   50   55   60   65\n",
      "   70   75   80   85   90   95  100  105  110  115  120  125  130  135\n",
      "  140  145  150  155  160  165  170  175  180  185  190  195  200  205\n",
      "  210  215  220  225  230  235  240  245  250  255  260  265  270  275\n",
      "  280  285  290  295  300  305  310  315  320  325  330  335  340  345\n",
      "  350  355  360  365  370  375  380  385  390  395  400  405  410  415\n",
      "  420  425  430  435  440  445  450  455  460  465  470  475  480  485\n",
      "  490  495  500  505  510  515  520  525  530  535  540  545  550  555\n",
      "  560  565  570  575  580  585  590  595  600  605  610  615  620  625\n",
      "  630  635  640  645  650  655  660  665  670  675  680  685  690  695\n",
      "  700  705  710  715  720  725  730  735  740  745  750  755  760  765\n",
      "  770  775  780  785  790  795  800  805  810  815  820  825  830  835\n",
      "  840  845  850  855  860  865  870  875  880  885  890  895  900  905\n",
      "  910  915  920  925  930  935  940  945  950  955  960  965  970  975\n",
      "  980  985  990  995 1000]\n"
     ]
    }
   ],
   "source": [
    "x_values = np.arange(0,1005,5)\n",
    "print(x_values)"
   ]
  },
  {
   "cell_type": "code",
   "execution_count": 55,
   "metadata": {},
   "outputs": [
    {
     "name": "stdout",
     "output_type": "stream",
     "text": [
      "[   0. 1000.]\n"
     ]
    }
   ],
   "source": [
    "x_values = np.linspace(0,1000,2)\n",
    "print(x_values)"
   ]
  },
  {
   "cell_type": "code",
   "execution_count": 56,
   "metadata": {},
   "outputs": [
    {
     "name": "stdout",
     "output_type": "stream",
     "text": [
      "[   0.          333.33333333  666.66666667 1000.        ]\n"
     ]
    }
   ],
   "source": [
    "x_values = np.linspace(0,1000,4)\n",
    "print(x_values)"
   ]
  },
  {
   "cell_type": "code",
   "execution_count": 57,
   "metadata": {},
   "outputs": [
    {
     "name": "stdout",
     "output_type": "stream",
     "text": [
      "[   0.            1.001001      2.002002      3.003003      4.004004\n",
      "    5.00500501    6.00600601    7.00700701    8.00800801    9.00900901\n",
      "   10.01001001   11.01101101   12.01201201   13.01301301   14.01401401\n",
      "   15.01501502   16.01601602   17.01701702   18.01801802   19.01901902\n",
      "   20.02002002   21.02102102   22.02202202   23.02302302   24.02402402\n",
      "   25.02502503   26.02602603   27.02702703   28.02802803   29.02902903\n",
      "   30.03003003   31.03103103   32.03203203   33.03303303   34.03403403\n",
      "   35.03503504   36.03603604   37.03703704   38.03803804   39.03903904\n",
      "   40.04004004   41.04104104   42.04204204   43.04304304   44.04404404\n",
      "   45.04504505   46.04604605   47.04704705   48.04804805   49.04904905\n",
      "   50.05005005   51.05105105   52.05205205   53.05305305   54.05405405\n",
      "   55.05505506   56.05605606   57.05705706   58.05805806   59.05905906\n",
      "   60.06006006   61.06106106   62.06206206   63.06306306   64.06406406\n",
      "   65.06506507   66.06606607   67.06706707   68.06806807   69.06906907\n",
      "   70.07007007   71.07107107   72.07207207   73.07307307   74.07407407\n",
      "   75.07507508   76.07607608   77.07707708   78.07807808   79.07907908\n",
      "   80.08008008   81.08108108   82.08208208   83.08308308   84.08408408\n",
      "   85.08508509   86.08608609   87.08708709   88.08808809   89.08908909\n",
      "   90.09009009   91.09109109   92.09209209   93.09309309   94.09409409\n",
      "   95.0950951    96.0960961    97.0970971    98.0980981    99.0990991\n",
      "  100.1001001   101.1011011   102.1021021   103.1031031   104.1041041\n",
      "  105.10510511  106.10610611  107.10710711  108.10810811  109.10910911\n",
      "  110.11011011  111.11111111  112.11211211  113.11311311  114.11411411\n",
      "  115.11511512  116.11611612  117.11711712  118.11811812  119.11911912\n",
      "  120.12012012  121.12112112  122.12212212  123.12312312  124.12412412\n",
      "  125.12512513  126.12612613  127.12712713  128.12812813  129.12912913\n",
      "  130.13013013  131.13113113  132.13213213  133.13313313  134.13413413\n",
      "  135.13513514  136.13613614  137.13713714  138.13813814  139.13913914\n",
      "  140.14014014  141.14114114  142.14214214  143.14314314  144.14414414\n",
      "  145.14514515  146.14614615  147.14714715  148.14814815  149.14914915\n",
      "  150.15015015  151.15115115  152.15215215  153.15315315  154.15415415\n",
      "  155.15515516  156.15615616  157.15715716  158.15815816  159.15915916\n",
      "  160.16016016  161.16116116  162.16216216  163.16316316  164.16416416\n",
      "  165.16516517  166.16616617  167.16716717  168.16816817  169.16916917\n",
      "  170.17017017  171.17117117  172.17217217  173.17317317  174.17417417\n",
      "  175.17517518  176.17617618  177.17717718  178.17817818  179.17917918\n",
      "  180.18018018  181.18118118  182.18218218  183.18318318  184.18418418\n",
      "  185.18518519  186.18618619  187.18718719  188.18818819  189.18918919\n",
      "  190.19019019  191.19119119  192.19219219  193.19319319  194.19419419\n",
      "  195.1951952   196.1961962   197.1971972   198.1981982   199.1991992\n",
      "  200.2002002   201.2012012   202.2022022   203.2032032   204.2042042\n",
      "  205.20520521  206.20620621  207.20720721  208.20820821  209.20920921\n",
      "  210.21021021  211.21121121  212.21221221  213.21321321  214.21421421\n",
      "  215.21521522  216.21621622  217.21721722  218.21821822  219.21921922\n",
      "  220.22022022  221.22122122  222.22222222  223.22322322  224.22422422\n",
      "  225.22522523  226.22622623  227.22722723  228.22822823  229.22922923\n",
      "  230.23023023  231.23123123  232.23223223  233.23323323  234.23423423\n",
      "  235.23523524  236.23623624  237.23723724  238.23823824  239.23923924\n",
      "  240.24024024  241.24124124  242.24224224  243.24324324  244.24424424\n",
      "  245.24524525  246.24624625  247.24724725  248.24824825  249.24924925\n",
      "  250.25025025  251.25125125  252.25225225  253.25325325  254.25425425\n",
      "  255.25525526  256.25625626  257.25725726  258.25825826  259.25925926\n",
      "  260.26026026  261.26126126  262.26226226  263.26326326  264.26426426\n",
      "  265.26526527  266.26626627  267.26726727  268.26826827  269.26926927\n",
      "  270.27027027  271.27127127  272.27227227  273.27327327  274.27427427\n",
      "  275.27527528  276.27627628  277.27727728  278.27827828  279.27927928\n",
      "  280.28028028  281.28128128  282.28228228  283.28328328  284.28428428\n",
      "  285.28528529  286.28628629  287.28728729  288.28828829  289.28928929\n",
      "  290.29029029  291.29129129  292.29229229  293.29329329  294.29429429\n",
      "  295.2952953   296.2962963   297.2972973   298.2982983   299.2992993\n",
      "  300.3003003   301.3013013   302.3023023   303.3033033   304.3043043\n",
      "  305.30530531  306.30630631  307.30730731  308.30830831  309.30930931\n",
      "  310.31031031  311.31131131  312.31231231  313.31331331  314.31431431\n",
      "  315.31531532  316.31631632  317.31731732  318.31831832  319.31931932\n",
      "  320.32032032  321.32132132  322.32232232  323.32332332  324.32432432\n",
      "  325.32532533  326.32632633  327.32732733  328.32832833  329.32932933\n",
      "  330.33033033  331.33133133  332.33233233  333.33333333  334.33433433\n",
      "  335.33533534  336.33633634  337.33733734  338.33833834  339.33933934\n",
      "  340.34034034  341.34134134  342.34234234  343.34334334  344.34434434\n",
      "  345.34534535  346.34634635  347.34734735  348.34834835  349.34934935\n",
      "  350.35035035  351.35135135  352.35235235  353.35335335  354.35435435\n",
      "  355.35535536  356.35635636  357.35735736  358.35835836  359.35935936\n",
      "  360.36036036  361.36136136  362.36236236  363.36336336  364.36436436\n",
      "  365.36536537  366.36636637  367.36736737  368.36836837  369.36936937\n",
      "  370.37037037  371.37137137  372.37237237  373.37337337  374.37437437\n",
      "  375.37537538  376.37637638  377.37737738  378.37837838  379.37937938\n",
      "  380.38038038  381.38138138  382.38238238  383.38338338  384.38438438\n",
      "  385.38538539  386.38638639  387.38738739  388.38838839  389.38938939\n",
      "  390.39039039  391.39139139  392.39239239  393.39339339  394.39439439\n",
      "  395.3953954   396.3963964   397.3973974   398.3983984   399.3993994\n",
      "  400.4004004   401.4014014   402.4024024   403.4034034   404.4044044\n",
      "  405.40540541  406.40640641  407.40740741  408.40840841  409.40940941\n",
      "  410.41041041  411.41141141  412.41241241  413.41341341  414.41441441\n",
      "  415.41541542  416.41641642  417.41741742  418.41841842  419.41941942\n",
      "  420.42042042  421.42142142  422.42242242  423.42342342  424.42442442\n",
      "  425.42542543  426.42642643  427.42742743  428.42842843  429.42942943\n",
      "  430.43043043  431.43143143  432.43243243  433.43343343  434.43443443\n",
      "  435.43543544  436.43643644  437.43743744  438.43843844  439.43943944\n",
      "  440.44044044  441.44144144  442.44244244  443.44344344  444.44444444\n",
      "  445.44544545  446.44644645  447.44744745  448.44844845  449.44944945\n",
      "  450.45045045  451.45145145  452.45245245  453.45345345  454.45445445\n",
      "  455.45545546  456.45645646  457.45745746  458.45845846  459.45945946\n",
      "  460.46046046  461.46146146  462.46246246  463.46346346  464.46446446\n",
      "  465.46546547  466.46646647  467.46746747  468.46846847  469.46946947\n",
      "  470.47047047  471.47147147  472.47247247  473.47347347  474.47447447\n",
      "  475.47547548  476.47647648  477.47747748  478.47847848  479.47947948\n",
      "  480.48048048  481.48148148  482.48248248  483.48348348  484.48448448\n",
      "  485.48548549  486.48648649  487.48748749  488.48848849  489.48948949\n",
      "  490.49049049  491.49149149  492.49249249  493.49349349  494.49449449\n",
      "  495.4954955   496.4964965   497.4974975   498.4984985   499.4994995\n",
      "  500.5005005   501.5015015   502.5025025   503.5035035   504.5045045\n",
      "  505.50550551  506.50650651  507.50750751  508.50850851  509.50950951\n",
      "  510.51051051  511.51151151  512.51251251  513.51351351  514.51451451\n",
      "  515.51551552  516.51651652  517.51751752  518.51851852  519.51951952\n",
      "  520.52052052  521.52152152  522.52252252  523.52352352  524.52452452\n",
      "  525.52552553  526.52652653  527.52752753  528.52852853  529.52952953\n",
      "  530.53053053  531.53153153  532.53253253  533.53353353  534.53453453\n",
      "  535.53553554  536.53653654  537.53753754  538.53853854  539.53953954\n",
      "  540.54054054  541.54154154  542.54254254  543.54354354  544.54454454\n",
      "  545.54554555  546.54654655  547.54754755  548.54854855  549.54954955\n",
      "  550.55055055  551.55155155  552.55255255  553.55355355  554.55455455\n",
      "  555.55555556  556.55655656  557.55755756  558.55855856  559.55955956\n",
      "  560.56056056  561.56156156  562.56256256  563.56356356  564.56456456\n",
      "  565.56556557  566.56656657  567.56756757  568.56856857  569.56956957\n",
      "  570.57057057  571.57157157  572.57257257  573.57357357  574.57457457\n",
      "  575.57557558  576.57657658  577.57757758  578.57857858  579.57957958\n",
      "  580.58058058  581.58158158  582.58258258  583.58358358  584.58458458\n",
      "  585.58558559  586.58658659  587.58758759  588.58858859  589.58958959\n",
      "  590.59059059  591.59159159  592.59259259  593.59359359  594.59459459\n",
      "  595.5955956   596.5965966   597.5975976   598.5985986   599.5995996\n",
      "  600.6006006   601.6016016   602.6026026   603.6036036   604.6046046\n",
      "  605.60560561  606.60660661  607.60760761  608.60860861  609.60960961\n",
      "  610.61061061  611.61161161  612.61261261  613.61361361  614.61461461\n",
      "  615.61561562  616.61661662  617.61761762  618.61861862  619.61961962\n",
      "  620.62062062  621.62162162  622.62262262  623.62362362  624.62462462\n",
      "  625.62562563  626.62662663  627.62762763  628.62862863  629.62962963\n",
      "  630.63063063  631.63163163  632.63263263  633.63363363  634.63463463\n",
      "  635.63563564  636.63663664  637.63763764  638.63863864  639.63963964\n",
      "  640.64064064  641.64164164  642.64264264  643.64364364  644.64464464\n",
      "  645.64564565  646.64664665  647.64764765  648.64864865  649.64964965\n",
      "  650.65065065  651.65165165  652.65265265  653.65365365  654.65465465\n",
      "  655.65565566  656.65665666  657.65765766  658.65865866  659.65965966\n",
      "  660.66066066  661.66166166  662.66266266  663.66366366  664.66466466\n",
      "  665.66566567  666.66666667  667.66766767  668.66866867  669.66966967\n",
      "  670.67067067  671.67167167  672.67267267  673.67367367  674.67467467\n",
      "  675.67567568  676.67667668  677.67767768  678.67867868  679.67967968\n",
      "  680.68068068  681.68168168  682.68268268  683.68368368  684.68468468\n",
      "  685.68568569  686.68668669  687.68768769  688.68868869  689.68968969\n",
      "  690.69069069  691.69169169  692.69269269  693.69369369  694.69469469\n",
      "  695.6956957   696.6966967   697.6976977   698.6986987   699.6996997\n",
      "  700.7007007   701.7017017   702.7027027   703.7037037   704.7047047\n",
      "  705.70570571  706.70670671  707.70770771  708.70870871  709.70970971\n",
      "  710.71071071  711.71171171  712.71271271  713.71371371  714.71471471\n",
      "  715.71571572  716.71671672  717.71771772  718.71871872  719.71971972\n",
      "  720.72072072  721.72172172  722.72272272  723.72372372  724.72472472\n",
      "  725.72572573  726.72672673  727.72772773  728.72872873  729.72972973\n",
      "  730.73073073  731.73173173  732.73273273  733.73373373  734.73473473\n",
      "  735.73573574  736.73673674  737.73773774  738.73873874  739.73973974\n",
      "  740.74074074  741.74174174  742.74274274  743.74374374  744.74474474\n",
      "  745.74574575  746.74674675  747.74774775  748.74874875  749.74974975\n",
      "  750.75075075  751.75175175  752.75275275  753.75375375  754.75475475\n",
      "  755.75575576  756.75675676  757.75775776  758.75875876  759.75975976\n",
      "  760.76076076  761.76176176  762.76276276  763.76376376  764.76476476\n",
      "  765.76576577  766.76676677  767.76776777  768.76876877  769.76976977\n",
      "  770.77077077  771.77177177  772.77277277  773.77377377  774.77477477\n",
      "  775.77577578  776.77677678  777.77777778  778.77877878  779.77977978\n",
      "  780.78078078  781.78178178  782.78278278  783.78378378  784.78478478\n",
      "  785.78578579  786.78678679  787.78778779  788.78878879  789.78978979\n",
      "  790.79079079  791.79179179  792.79279279  793.79379379  794.79479479\n",
      "  795.7957958   796.7967968   797.7977978   798.7987988   799.7997998\n",
      "  800.8008008   801.8018018   802.8028028   803.8038038   804.8048048\n",
      "  805.80580581  806.80680681  807.80780781  808.80880881  809.80980981\n",
      "  810.81081081  811.81181181  812.81281281  813.81381381  814.81481481\n",
      "  815.81581582  816.81681682  817.81781782  818.81881882  819.81981982\n",
      "  820.82082082  821.82182182  822.82282282  823.82382382  824.82482482\n",
      "  825.82582583  826.82682683  827.82782783  828.82882883  829.82982983\n",
      "  830.83083083  831.83183183  832.83283283  833.83383383  834.83483483\n",
      "  835.83583584  836.83683684  837.83783784  838.83883884  839.83983984\n",
      "  840.84084084  841.84184184  842.84284284  843.84384384  844.84484484\n",
      "  845.84584585  846.84684685  847.84784785  848.84884885  849.84984985\n",
      "  850.85085085  851.85185185  852.85285285  853.85385385  854.85485485\n",
      "  855.85585586  856.85685686  857.85785786  858.85885886  859.85985986\n",
      "  860.86086086  861.86186186  862.86286286  863.86386386  864.86486486\n",
      "  865.86586587  866.86686687  867.86786787  868.86886887  869.86986987\n",
      "  870.87087087  871.87187187  872.87287287  873.87387387  874.87487487\n",
      "  875.87587588  876.87687688  877.87787788  878.87887888  879.87987988\n",
      "  880.88088088  881.88188188  882.88288288  883.88388388  884.88488488\n",
      "  885.88588589  886.88688689  887.88788789  888.88888889  889.88988989\n",
      "  890.89089089  891.89189189  892.89289289  893.89389389  894.89489489\n",
      "  895.8958959   896.8968969   897.8978979   898.8988989   899.8998999\n",
      "  900.9009009   901.9019019   902.9029029   903.9039039   904.9049049\n",
      "  905.90590591  906.90690691  907.90790791  908.90890891  909.90990991\n",
      "  910.91091091  911.91191191  912.91291291  913.91391391  914.91491491\n",
      "  915.91591592  916.91691692  917.91791792  918.91891892  919.91991992\n",
      "  920.92092092  921.92192192  922.92292292  923.92392392  924.92492492\n",
      "  925.92592593  926.92692693  927.92792793  928.92892893  929.92992993\n",
      "  930.93093093  931.93193193  932.93293293  933.93393393  934.93493493\n",
      "  935.93593594  936.93693694  937.93793794  938.93893894  939.93993994\n",
      "  940.94094094  941.94194194  942.94294294  943.94394394  944.94494494\n",
      "  945.94594595  946.94694695  947.94794795  948.94894895  949.94994995\n",
      "  950.95095095  951.95195195  952.95295295  953.95395395  954.95495495\n",
      "  955.95595596  956.95695696  957.95795796  958.95895896  959.95995996\n",
      "  960.96096096  961.96196196  962.96296296  963.96396396  964.96496496\n",
      "  965.96596597  966.96696697  967.96796797  968.96896897  969.96996997\n",
      "  970.97097097  971.97197197  972.97297297  973.97397397  974.97497497\n",
      "  975.97597598  976.97697698  977.97797798  978.97897898  979.97997998\n",
      "  980.98098098  981.98198198  982.98298298  983.98398398  984.98498498\n",
      "  985.98598599  986.98698699  987.98798799  988.98898899  989.98998999\n",
      "  990.99099099  991.99199199  992.99299299  993.99399399  994.99499499\n",
      "  995.995996    996.996997    997.997998    998.998999   1000.        ]\n"
     ]
    }
   ],
   "source": [
    "x_values = np.linspace(0,1000,1000)\n",
    "print(x_values)"
   ]
  },
  {
   "cell_type": "code",
   "execution_count": 58,
   "metadata": {},
   "outputs": [
    {
     "name": "stdout",
     "output_type": "stream",
     "text": [
      "[   0.    1.    2. ...  998.  999. 1000.]\n"
     ]
    }
   ],
   "source": [
    "x_values = np.linspace(0,1000,1001)\n",
    "print(x_values)"
   ]
  },
  {
   "cell_type": "code",
   "execution_count": 59,
   "metadata": {},
   "outputs": [
    {
     "name": "stdout",
     "output_type": "stream",
     "text": [
      "nan\n"
     ]
    }
   ],
   "source": [
    "print(np.nan)"
   ]
  },
  {
   "cell_type": "code",
   "execution_count": 60,
   "metadata": {},
   "outputs": [
    {
     "name": "stdout",
     "output_type": "stream",
     "text": [
      "inf\n"
     ]
    }
   ],
   "source": [
    "print(np.inf)"
   ]
  },
  {
   "cell_type": "code",
   "execution_count": 61,
   "metadata": {},
   "outputs": [
    {
     "name": "stdout",
     "output_type": "stream",
     "text": [
      "True\n",
      "True\n"
     ]
    }
   ],
   "source": [
    "print(np.isnan(np.nan))\n",
    "print(np.isinf(np.inf))"
   ]
  },
  {
   "cell_type": "code",
   "execution_count": 62,
   "metadata": {},
   "outputs": [
    {
     "name": "stdout",
     "output_type": "stream",
     "text": [
      "True\n",
      "[ True]\n"
     ]
    },
    {
     "name": "stderr",
     "output_type": "stream",
     "text": [
      "C:\\Users\\hp\\AppData\\Local\\Temp\\ipykernel_3008\\3338874168.py:1: RuntimeWarning: invalid value encountered in sqrt\n",
      "  print(np.isnan(np.sqrt(-1)))\n",
      "C:\\Users\\hp\\AppData\\Local\\Temp\\ipykernel_3008\\3338874168.py:2: RuntimeWarning: divide by zero encountered in divide\n",
      "  print(np.isinf(np.array([10])/0))\n"
     ]
    }
   ],
   "source": [
    "print(np.isnan(np.sqrt(-1)))\n",
    "print(np.isinf(np.array([10])/0))"
   ]
  },
  {
   "cell_type": "code",
   "execution_count": 63,
   "metadata": {},
   "outputs": [
    {
     "name": "stdout",
     "output_type": "stream",
     "text": [
      "nan\n",
      "[inf]\n"
     ]
    },
    {
     "name": "stderr",
     "output_type": "stream",
     "text": [
      "C:\\Users\\hp\\AppData\\Local\\Temp\\ipykernel_3008\\1603808826.py:1: RuntimeWarning: invalid value encountered in sqrt\n",
      "  print(np.sqrt(-1))\n",
      "C:\\Users\\hp\\AppData\\Local\\Temp\\ipykernel_3008\\1603808826.py:2: RuntimeWarning: divide by zero encountered in divide\n",
      "  print(np.array([10])/0)\n"
     ]
    }
   ],
   "source": [
    "print(np.sqrt(-1))\n",
    "print(np.array([10])/0)"
   ]
  },
  {
   "cell_type": "code",
   "execution_count": 64,
   "metadata": {},
   "outputs": [],
   "source": [
    "l1 = [1,2,3,4,5]\n",
    "l2 = [6,7,8,9,0]"
   ]
  },
  {
   "cell_type": "code",
   "execution_count": 65,
   "metadata": {},
   "outputs": [],
   "source": [
    "a1 = np.array(l1)\n",
    "a2 = np.array(l2)"
   ]
  },
  {
   "cell_type": "code",
   "execution_count": 66,
   "metadata": {},
   "outputs": [
    {
     "name": "stdout",
     "output_type": "stream",
     "text": [
      "[1, 2, 3, 4, 5, 1, 2, 3, 4, 5, 1, 2, 3, 4, 5, 1, 2, 3, 4, 5, 1, 2, 3, 4, 5]\n",
      "[ 5 10 15 20 25]\n"
     ]
    }
   ],
   "source": [
    "print(l1*5)\n",
    "print(a1*5)"
   ]
  },
  {
   "cell_type": "code",
   "execution_count": 67,
   "metadata": {},
   "outputs": [
    {
     "ename": "TypeError",
     "evalue": "can only concatenate list (not \"int\") to list",
     "output_type": "error",
     "traceback": [
      "\u001b[1;31m---------------------------------------------------------------------------\u001b[0m",
      "\u001b[1;31mTypeError\u001b[0m                                 Traceback (most recent call last)",
      "Cell \u001b[1;32mIn[67], line 1\u001b[0m\n\u001b[1;32m----> 1\u001b[0m \u001b[38;5;28mprint\u001b[39m(\u001b[43ml1\u001b[49m\u001b[38;5;241;43m+\u001b[39;49m\u001b[38;5;241;43m5\u001b[39;49m)\n",
      "\u001b[1;31mTypeError\u001b[0m: can only concatenate list (not \"int\") to list"
     ]
    }
   ],
   "source": [
    "print(l1+5)"
   ]
  },
  {
   "cell_type": "code",
   "execution_count": 69,
   "metadata": {},
   "outputs": [
    {
     "name": "stdout",
     "output_type": "stream",
     "text": [
      "[ 6  7  8  9 10]\n"
     ]
    }
   ],
   "source": [
    "print(a1+5)\n"
   ]
  },
  {
   "cell_type": "code",
   "execution_count": 70,
   "metadata": {},
   "outputs": [
    {
     "name": "stdout",
     "output_type": "stream",
     "text": [
      "[1, 2, 3, 4, 5, 6, 7, 8, 9, 0]\n"
     ]
    }
   ],
   "source": [
    "print(l1+l2)"
   ]
  },
  {
   "cell_type": "code",
   "execution_count": 71,
   "metadata": {},
   "outputs": [
    {
     "name": "stdout",
     "output_type": "stream",
     "text": [
      "[ 7  9 11 13  5]\n"
     ]
    }
   ],
   "source": [
    "print(a1+a2)"
   ]
  },
  {
   "cell_type": "code",
   "execution_count": 72,
   "metadata": {},
   "outputs": [
    {
     "ename": "TypeError",
     "evalue": "can't multiply sequence by non-int of type 'list'",
     "output_type": "error",
     "traceback": [
      "\u001b[1;31m---------------------------------------------------------------------------\u001b[0m",
      "\u001b[1;31mTypeError\u001b[0m                                 Traceback (most recent call last)",
      "Cell \u001b[1;32mIn[72], line 1\u001b[0m\n\u001b[1;32m----> 1\u001b[0m \u001b[38;5;28mprint\u001b[39m(\u001b[43ml1\u001b[49m\u001b[38;5;241;43m*\u001b[39;49m\u001b[43ml2\u001b[49m)\n",
      "\u001b[1;31mTypeError\u001b[0m: can't multiply sequence by non-int of type 'list'"
     ]
    }
   ],
   "source": [
    "print(l1*l2)"
   ]
  },
  {
   "cell_type": "code",
   "execution_count": 73,
   "metadata": {},
   "outputs": [
    {
     "name": "stdout",
     "output_type": "stream",
     "text": [
      "[ 6 14 24 36  0]\n"
     ]
    }
   ],
   "source": [
    "print(a1*a2)"
   ]
  },
  {
   "cell_type": "code",
   "execution_count": 74,
   "metadata": {},
   "outputs": [
    {
     "ename": "TypeError",
     "evalue": "unsupported operand type(s) for /: 'list' and 'list'",
     "output_type": "error",
     "traceback": [
      "\u001b[1;31m---------------------------------------------------------------------------\u001b[0m",
      "\u001b[1;31mTypeError\u001b[0m                                 Traceback (most recent call last)",
      "Cell \u001b[1;32mIn[74], line 1\u001b[0m\n\u001b[1;32m----> 1\u001b[0m \u001b[38;5;28mprint\u001b[39m(\u001b[43ml1\u001b[49m\u001b[38;5;241;43m/\u001b[39;49m\u001b[43ml2\u001b[49m)\n",
      "\u001b[1;31mTypeError\u001b[0m: unsupported operand type(s) for /: 'list' and 'list'"
     ]
    }
   ],
   "source": [
    "print(l1/l2)"
   ]
  },
  {
   "cell_type": "code",
   "execution_count": 75,
   "metadata": {},
   "outputs": [
    {
     "name": "stdout",
     "output_type": "stream",
     "text": [
      "[0.16666667 0.28571429 0.375      0.44444444        inf]\n"
     ]
    },
    {
     "name": "stderr",
     "output_type": "stream",
     "text": [
      "C:\\Users\\hp\\AppData\\Local\\Temp\\ipykernel_3008\\2065770778.py:1: RuntimeWarning: divide by zero encountered in divide\n",
      "  print(a1/a2)\n"
     ]
    }
   ],
   "source": [
    "print(a1/a2)"
   ]
  },
  {
   "cell_type": "code",
   "execution_count": 76,
   "metadata": {},
   "outputs": [
    {
     "ename": "TypeError",
     "evalue": "unsupported operand type(s) for -: 'list' and 'list'",
     "output_type": "error",
     "traceback": [
      "\u001b[1;31m---------------------------------------------------------------------------\u001b[0m",
      "\u001b[1;31mTypeError\u001b[0m                                 Traceback (most recent call last)",
      "Cell \u001b[1;32mIn[76], line 1\u001b[0m\n\u001b[1;32m----> 1\u001b[0m \u001b[38;5;28mprint\u001b[39m(\u001b[43ml1\u001b[49m\u001b[38;5;241;43m-\u001b[39;49m\u001b[43ml2\u001b[49m)\n",
      "\u001b[1;31mTypeError\u001b[0m: unsupported operand type(s) for -: 'list' and 'list'"
     ]
    }
   ],
   "source": [
    "print(l1-l2)"
   ]
  },
  {
   "cell_type": "code",
   "execution_count": 77,
   "metadata": {},
   "outputs": [
    {
     "name": "stdout",
     "output_type": "stream",
     "text": [
      "[-5 -5 -5 -5  5]\n"
     ]
    }
   ],
   "source": [
    "print(a1-a2)"
   ]
  },
  {
   "cell_type": "code",
   "execution_count": 80,
   "metadata": {},
   "outputs": [
    {
     "name": "stdout",
     "output_type": "stream",
     "text": [
      "[[2 3 4]\n",
      " [3 4 5]]\n",
      "[[1 2 3]\n",
      " [2 4 6]]\n"
     ]
    }
   ],
   "source": [
    "a1 = np.array([1,2,3])\n",
    "a2 = np.array([[1],\n",
    "              [2]])\n",
    "print(a1+a2)\n",
    "print(a1*a2)"
   ]
  },
  {
   "cell_type": "code",
   "execution_count": 83,
   "metadata": {},
   "outputs": [],
   "source": [
    "a1 = np.array([1,2,3])\n",
    "a2 = np.array([[1,1],\n",
    "              [2,1]])"
   ]
  },
  {
   "cell_type": "code",
   "execution_count": 84,
   "metadata": {},
   "outputs": [
    {
     "ename": "ValueError",
     "evalue": "operands could not be broadcast together with shapes (3,) (2,2) ",
     "output_type": "error",
     "traceback": [
      "\u001b[1;31m---------------------------------------------------------------------------\u001b[0m",
      "\u001b[1;31mValueError\u001b[0m                                Traceback (most recent call last)",
      "Cell \u001b[1;32mIn[84], line 1\u001b[0m\n\u001b[1;32m----> 1\u001b[0m \u001b[38;5;28mprint\u001b[39m(\u001b[43ma1\u001b[49m\u001b[38;5;241;43m+\u001b[39;49m\u001b[43ma2\u001b[49m)\n",
      "\u001b[1;31mValueError\u001b[0m: operands could not be broadcast together with shapes (3,) (2,2) "
     ]
    }
   ],
   "source": [
    "print(a1+a2)"
   ]
  },
  {
   "cell_type": "code",
   "execution_count": 85,
   "metadata": {},
   "outputs": [
    {
     "ename": "ValueError",
     "evalue": "operands could not be broadcast together with shapes (3,) (2,2) ",
     "output_type": "error",
     "traceback": [
      "\u001b[1;31m---------------------------------------------------------------------------\u001b[0m",
      "\u001b[1;31mValueError\u001b[0m                                Traceback (most recent call last)",
      "Cell \u001b[1;32mIn[85], line 1\u001b[0m\n\u001b[1;32m----> 1\u001b[0m \u001b[38;5;28mprint\u001b[39m(\u001b[43ma1\u001b[49m\u001b[38;5;241;43m*\u001b[39;49m\u001b[43ma2\u001b[49m)\n",
      "\u001b[1;31mValueError\u001b[0m: operands could not be broadcast together with shapes (3,) (2,2) "
     ]
    }
   ],
   "source": [
    "print(a1*a2)"
   ]
  },
  {
   "cell_type": "code",
   "execution_count": 87,
   "metadata": {},
   "outputs": [],
   "source": [
    "a = np.array([[1,2,3],\n",
    "              [4,5,6]])"
   ]
  },
  {
   "cell_type": "code",
   "execution_count": 88,
   "metadata": {},
   "outputs": [
    {
     "name": "stdout",
     "output_type": "stream",
     "text": [
      "[[1.         1.41421356 1.73205081]\n",
      " [2.         2.23606798 2.44948974]]\n"
     ]
    }
   ],
   "source": [
    "print(np.sqrt(a))"
   ]
  },
  {
   "cell_type": "code",
   "execution_count": 91,
   "metadata": {},
   "outputs": [
    {
     "name": "stdout",
     "output_type": "stream",
     "text": [
      "__________\n",
      "[[ 0.54030231 -0.41614684 -0.9899925 ]\n",
      " [-0.65364362  0.28366219  0.96017029]]\n",
      "__________\n",
      "[[ 1.55740772 -2.18503986 -0.14254654]\n",
      " [ 1.15782128 -3.38051501 -0.29100619]]\n",
      "__________\n",
      "[[0.76159416 0.96402758 0.99505475]\n",
      " [0.9993293  0.9999092  0.99998771]]\n",
      "__________\n",
      "[[0.         0.69314718 1.09861229]\n",
      " [1.38629436 1.60943791 1.79175947]]\n",
      "__________\n",
      "[[0.         0.30103    0.47712125]\n",
      " [0.60205999 0.69897    0.77815125]]\n",
      "__________\n"
     ]
    }
   ],
   "source": [
    "print(\"_\"*10)\n",
    "print(np.cos(a))\n",
    "print(\"_\"*10)\n",
    "print(np.tan(a))\n",
    "print(\"_\"*10)\n",
    "print(np.tanh(a))\n",
    "print(\"_\"*10)\n",
    "print(np.log(a))\n",
    "print(\"_\"*10)\n",
    "print(np.log10(a))\n",
    "print(\"_\"*10)"
   ]
  },
  {
   "cell_type": "code",
   "execution_count": 92,
   "metadata": {},
   "outputs": [],
   "source": [
    "a = np.array([1,2,3])"
   ]
  },
  {
   "cell_type": "code",
   "execution_count": 93,
   "metadata": {},
   "outputs": [
    {
     "data": {
      "text/plain": [
       "array([1, 2, 3, 7, 8, 9])"
      ]
     },
     "execution_count": 93,
     "metadata": {},
     "output_type": "execute_result"
    }
   ],
   "source": [
    "np.append(a, [7,8,9])"
   ]
  },
  {
   "cell_type": "code",
   "execution_count": 94,
   "metadata": {},
   "outputs": [
    {
     "name": "stdout",
     "output_type": "stream",
     "text": [
      "[1 2 3]\n"
     ]
    }
   ],
   "source": [
    "print(a)"
   ]
  },
  {
   "cell_type": "code",
   "execution_count": 95,
   "metadata": {},
   "outputs": [
    {
     "name": "stdout",
     "output_type": "stream",
     "text": [
      "[1 2 3 7 8 9]\n"
     ]
    }
   ],
   "source": [
    "a = np.append(a, [7,8,9])\n",
    "print(a)\n"
   ]
  },
  {
   "cell_type": "code",
   "execution_count": 96,
   "metadata": {},
   "outputs": [],
   "source": [
    "a = np.insert(a,3,[4,5,6])"
   ]
  },
  {
   "cell_type": "code",
   "execution_count": 97,
   "metadata": {},
   "outputs": [
    {
     "name": "stdout",
     "output_type": "stream",
     "text": [
      "[1 2 3 4 5 6 7 8 9]\n"
     ]
    }
   ],
   "source": [
    "print(a)"
   ]
  },
  {
   "cell_type": "code",
   "execution_count": 98,
   "metadata": {},
   "outputs": [],
   "source": [
    "a = np.array([[1,2,3],\n",
    "              [4,5,6]])"
   ]
  },
  {
   "cell_type": "code",
   "execution_count": 101,
   "metadata": {},
   "outputs": [
    {
     "name": "stdout",
     "output_type": "stream",
     "text": [
      "[1 3 4 5 6]\n",
      "[1 2 3 5 6]\n",
      "[1 2 3 4 6]\n"
     ]
    }
   ],
   "source": [
    "print(np.delete(a, 1))\n",
    "print(np.delete(a, 3))\n",
    "print(np.delete(a, 4))"
   ]
  },
  {
   "cell_type": "code",
   "execution_count": 102,
   "metadata": {},
   "outputs": [
    {
     "name": "stdout",
     "output_type": "stream",
     "text": [
      "[[1 2 3]]\n",
      "[[4 5 6]]\n"
     ]
    }
   ],
   "source": [
    "print(np.delete(a, 1, 0))\n",
    "print(np.delete(a, 0, 0))"
   ]
  },
  {
   "cell_type": "code",
   "execution_count": 103,
   "metadata": {},
   "outputs": [
    {
     "name": "stdout",
     "output_type": "stream",
     "text": [
      "[[2 3]\n",
      " [5 6]]\n",
      "[[1 3]\n",
      " [4 6]]\n"
     ]
    }
   ],
   "source": [
    "print(np.delete(a, 0, 1))\n",
    "print(np.delete(a, 1, 1))\n"
   ]
  },
  {
   "cell_type": "code",
   "execution_count": 104,
   "metadata": {},
   "outputs": [],
   "source": [
    "# print(np.delete(a, 0-> index, 0 -> 0 for row, 1 for column))"
   ]
  },
  {
   "cell_type": "code",
   "execution_count": 105,
   "metadata": {},
   "outputs": [],
   "source": [
    "a = np.array([[1,2,3,4,5],\n",
    "              [6,7,8,9,10],\n",
    "              [11,12,13,14,15],\n",
    "              [16,17,18,19,20]])"
   ]
  },
  {
   "cell_type": "code",
   "execution_count": 107,
   "metadata": {},
   "outputs": [
    {
     "name": "stdout",
     "output_type": "stream",
     "text": [
      "(4, 5)\n",
      "[[ 1  2  3  4]\n",
      " [ 5  6  7  8]\n",
      " [ 9 10 11 12]\n",
      " [13 14 15 16]\n",
      " [17 18 19 20]]\n",
      "[ 1  2  3  4  5  6  7  8  9 10 11 12 13 14 15 16 17 18 19 20]\n",
      "[[ 1]\n",
      " [ 2]\n",
      " [ 3]\n",
      " [ 4]\n",
      " [ 5]\n",
      " [ 6]\n",
      " [ 7]\n",
      " [ 8]\n",
      " [ 9]\n",
      " [10]\n",
      " [11]\n",
      " [12]\n",
      " [13]\n",
      " [14]\n",
      " [15]\n",
      " [16]\n",
      " [17]\n",
      " [18]\n",
      " [19]\n",
      " [20]]\n"
     ]
    }
   ],
   "source": [
    "print(a.shape)\n",
    "print(a.reshape((5,4)))\n",
    "print(a.reshape((20,)))\n",
    "print(a.reshape((20,1)))"
   ]
  },
  {
   "cell_type": "code",
   "execution_count": 108,
   "metadata": {},
   "outputs": [
    {
     "name": "stdout",
     "output_type": "stream",
     "text": [
      "[[ 1  2  3  4  5  6  7  8  9 10]\n",
      " [11 12 13 14 15 16 17 18 19 20]]\n",
      "[[[ 1  2  3  4  5]\n",
      "  [ 6  7  8  9 10]]\n",
      "\n",
      " [[11 12 13 14 15]\n",
      "  [16 17 18 19 20]]]\n",
      "[[[ 1  2]\n",
      "  [ 3  4]\n",
      "  [ 5  6]\n",
      "  [ 7  8]\n",
      "  [ 9 10]]\n",
      "\n",
      " [[11 12]\n",
      "  [13 14]\n",
      "  [15 16]\n",
      "  [17 18]\n",
      "  [19 20]]]\n",
      "[[[ 1  2]\n",
      "  [ 3  4]]\n",
      "\n",
      " [[ 5  6]\n",
      "  [ 7  8]]\n",
      "\n",
      " [[ 9 10]\n",
      "  [11 12]]\n",
      "\n",
      " [[13 14]\n",
      "  [15 16]]\n",
      "\n",
      " [[17 18]\n",
      "  [19 20]]]\n"
     ]
    }
   ],
   "source": [
    "\n",
    "print(a.reshape((2,10)))\n",
    "print(a.reshape((2,2,5)))\n",
    "print(a.reshape((2,5,2)))\n",
    "print(a.reshape((5,2,2)))"
   ]
  },
  {
   "cell_type": "code",
   "execution_count": 109,
   "metadata": {},
   "outputs": [],
   "source": [
    "a = a.reshape(5,4)"
   ]
  },
  {
   "cell_type": "code",
   "execution_count": 110,
   "metadata": {},
   "outputs": [
    {
     "name": "stdout",
     "output_type": "stream",
     "text": [
      "[[ 1  2  3  4]\n",
      " [ 5  6  7  8]\n",
      " [ 9 10 11 12]\n",
      " [13 14 15 16]\n",
      " [17 18 19 20]]\n"
     ]
    }
   ],
   "source": [
    "print(a\n",
    "      )"
   ]
  },
  {
   "cell_type": "code",
   "execution_count": 111,
   "metadata": {},
   "outputs": [
    {
     "data": {
      "text/plain": [
       "array([[ 1,  2],\n",
       "       [ 3,  4],\n",
       "       [ 5,  6],\n",
       "       [ 7,  8],\n",
       "       [ 9, 10],\n",
       "       [11, 12],\n",
       "       [13, 14],\n",
       "       [15, 16],\n",
       "       [17, 18],\n",
       "       [19, 20]])"
      ]
     },
     "execution_count": 111,
     "metadata": {},
     "output_type": "execute_result"
    }
   ],
   "source": [
    "a.reshape(10,2)"
   ]
  },
  {
   "cell_type": "code",
   "execution_count": 112,
   "metadata": {},
   "outputs": [
    {
     "data": {
      "text/plain": [
       "array([[ 1,  2,  3,  4],\n",
       "       [ 5,  6,  7,  8],\n",
       "       [ 9, 10, 11, 12],\n",
       "       [13, 14, 15, 16],\n",
       "       [17, 18, 19, 20]])"
      ]
     },
     "execution_count": 112,
     "metadata": {},
     "output_type": "execute_result"
    }
   ],
   "source": [
    "a"
   ]
  },
  {
   "cell_type": "code",
   "execution_count": 113,
   "metadata": {},
   "outputs": [],
   "source": [
    "a.resize((10,2))"
   ]
  },
  {
   "cell_type": "code",
   "execution_count": 114,
   "metadata": {},
   "outputs": [
    {
     "data": {
      "text/plain": [
       "array([[ 1,  2],\n",
       "       [ 3,  4],\n",
       "       [ 5,  6],\n",
       "       [ 7,  8],\n",
       "       [ 9, 10],\n",
       "       [11, 12],\n",
       "       [13, 14],\n",
       "       [15, 16],\n",
       "       [17, 18],\n",
       "       [19, 20]])"
      ]
     },
     "execution_count": 114,
     "metadata": {},
     "output_type": "execute_result"
    }
   ],
   "source": [
    "a"
   ]
  },
  {
   "cell_type": "code",
   "execution_count": 115,
   "metadata": {},
   "outputs": [],
   "source": [
    "a.resize((4,5))\n"
   ]
  },
  {
   "cell_type": "code",
   "execution_count": 116,
   "metadata": {},
   "outputs": [
    {
     "data": {
      "text/plain": [
       "array([[ 1,  2,  3,  4,  5],\n",
       "       [ 6,  7,  8,  9, 10],\n",
       "       [11, 12, 13, 14, 15],\n",
       "       [16, 17, 18, 19, 20]])"
      ]
     },
     "execution_count": 116,
     "metadata": {},
     "output_type": "execute_result"
    }
   ],
   "source": [
    "a\n"
   ]
  },
  {
   "cell_type": "code",
   "execution_count": 117,
   "metadata": {},
   "outputs": [
    {
     "name": "stdout",
     "output_type": "stream",
     "text": [
      "[ 1  2  3  4  5  6  7  8  9 10 11 12 13 14 15 16 17 18 19 20]\n",
      "[ 1  2  3  4  5  6  7  8  9 10 11 12 13 14 15 16 17 18 19 20]\n"
     ]
    }
   ],
   "source": [
    "print(a.flatten()) # returns copy\n",
    "print(a.ravel()) # returns view"
   ]
  },
  {
   "cell_type": "code",
   "execution_count": 118,
   "metadata": {},
   "outputs": [
    {
     "name": "stdout",
     "output_type": "stream",
     "text": [
      "[  1   2 100   4   5   6   7   8   9  10  11  12  13  14  15  16  17  18\n",
      "  19  20]\n",
      "[[ 1  2  3  4  5]\n",
      " [ 6  7  8  9 10]\n",
      " [11 12 13 14 15]\n",
      " [16 17 18 19 20]]\n"
     ]
    }
   ],
   "source": [
    "var1 = a.flatten()\n",
    "var1[2] = 100\n",
    "print(var1)\n",
    "print(a)"
   ]
  },
  {
   "cell_type": "code",
   "execution_count": 119,
   "metadata": {},
   "outputs": [
    {
     "name": "stdout",
     "output_type": "stream",
     "text": [
      "[  1   2 100   4   5   6   7   8   9  10  11  12  13  14  15  16  17  18\n",
      "  19  20]\n",
      "[[  1   2 100   4   5]\n",
      " [  6   7   8   9  10]\n",
      " [ 11  12  13  14  15]\n",
      " [ 16  17  18  19  20]]\n"
     ]
    }
   ],
   "source": [
    "var1 = a.ravel()\n",
    "var1[2] = 100\n",
    "print(var1)\n",
    "print(a)"
   ]
  },
  {
   "cell_type": "code",
   "execution_count": 120,
   "metadata": {},
   "outputs": [
    {
     "name": "stdout",
     "output_type": "stream",
     "text": [
      "[1, 2, 100, 4, 5, 6, 7, 8, 9, 10, 11, 12, 13, 14, 15, 16, 17, 18, 19, 20]\n"
     ]
    }
   ],
   "source": [
    "var = [v for v in a.flat]\n",
    "print(var)"
   ]
  },
  {
   "cell_type": "code",
   "execution_count": 121,
   "metadata": {},
   "outputs": [],
   "source": [
    "a = np.array([[1,2,3,4,5],\n",
    "              [6,7,8,9,10],\n",
    "              [11,12,13,14,15],\n",
    "              [16,17,18,19,20]])"
   ]
  },
  {
   "cell_type": "code",
   "execution_count": 123,
   "metadata": {},
   "outputs": [
    {
     "name": "stdout",
     "output_type": "stream",
     "text": [
      "[[ 1  6 11 16]\n",
      " [ 2  7 12 17]\n",
      " [ 3  8 13 18]\n",
      " [ 4  9 14 19]\n",
      " [ 5 10 15 20]]\n"
     ]
    }
   ],
   "source": [
    "print(a.transpose())"
   ]
  },
  {
   "cell_type": "code",
   "execution_count": 124,
   "metadata": {},
   "outputs": [
    {
     "name": "stdout",
     "output_type": "stream",
     "text": [
      "[[ 1  6 11 16]\n",
      " [ 2  7 12 17]\n",
      " [ 3  8 13 18]\n",
      " [ 4  9 14 19]\n",
      " [ 5 10 15 20]]\n"
     ]
    }
   ],
   "source": [
    "print(a.T)"
   ]
  },
  {
   "cell_type": "code",
   "execution_count": null,
   "metadata": {},
   "outputs": [
    {
     "name": "stdout",
     "output_type": "stream",
     "text": [
      "[[ 1  6 11 16]\n",
      " [ 2  7 12 17]\n",
      " [ 3  8 13 18]\n",
      " [ 4  9 14 19]\n",
      " [ 5 10 15 20]]\n"
     ]
    }
   ],
   "source": [
    "print(a.swapaxes(0,1)) # better for higher dimension arrays"
   ]
  },
  {
   "cell_type": "code",
   "execution_count": 128,
   "metadata": {},
   "outputs": [],
   "source": [
    "a1 = np.array([[1,2,3,4,5],\n",
    "              [6,7,8,9,10]])\n",
    "a2 = np.array([[11,12,13,14,15],\n",
    "              [16,17,18,19,20]])"
   ]
  },
  {
   "cell_type": "code",
   "execution_count": 129,
   "metadata": {},
   "outputs": [
    {
     "name": "stdout",
     "output_type": "stream",
     "text": [
      "[[ 1  2  3  4  5]\n",
      " [ 6  7  8  9 10]\n",
      " [11 12 13 14 15]\n",
      " [16 17 18 19 20]]\n"
     ]
    }
   ],
   "source": [
    "a = np.concatenate((a1,a2), axis=0)\n",
    "print(a)"
   ]
  },
  {
   "cell_type": "code",
   "execution_count": 130,
   "metadata": {},
   "outputs": [
    {
     "name": "stdout",
     "output_type": "stream",
     "text": [
      "[[ 1  2  3  4  5 11 12 13 14 15]\n",
      " [ 6  7  8  9 10 16 17 18 19 20]]\n"
     ]
    }
   ],
   "source": [
    "a = np.concatenate((a1,a2), axis=1)\n",
    "print(a)"
   ]
  },
  {
   "cell_type": "code",
   "execution_count": null,
   "metadata": {},
   "outputs": [
    {
     "name": "stdout",
     "output_type": "stream",
     "text": [
      "[[[ 1  2  3  4  5]\n",
      "  [ 6  7  8  9 10]]\n",
      "\n",
      " [[11 12 13 14 15]\n",
      "  [16 17 18 19 20]]]\n"
     ]
    }
   ],
   "source": [
    "a = np.stack((a1,a2)) # adding a new dimension\n",
    "print(a)"
   ]
  },
  {
   "cell_type": "code",
   "execution_count": null,
   "metadata": {},
   "outputs": [
    {
     "name": "stdout",
     "output_type": "stream",
     "text": [
      "[[ 1  2  3  4  5]\n",
      " [ 6  7  8  9 10]\n",
      " [11 12 13 14 15]\n",
      " [16 17 18 19 20]]\n"
     ]
    }
   ],
   "source": [
    "a = np.vstack((a1,a2))\n",
    "print(a)"
   ]
  },
  {
   "cell_type": "code",
   "execution_count": null,
   "metadata": {},
   "outputs": [
    {
     "name": "stdout",
     "output_type": "stream",
     "text": [
      "[[ 1  2  3  4  5 11 12 13 14 15]\n",
      " [ 6  7  8  9 10 16 17 18 19 20]]\n"
     ]
    }
   ],
   "source": [
    "a = np.hstack((a1,a2))\n",
    "print(a)"
   ]
  },
  {
   "cell_type": "code",
   "execution_count": 138,
   "metadata": {},
   "outputs": [],
   "source": [
    "a = np.array([[1,2,3,4,5,6],\n",
    "              [7,8,9,10,11,12],\n",
    "              [13,14,15,16,17,18],\n",
    "              [19,20,21,22,23,24]])"
   ]
  },
  {
   "cell_type": "code",
   "execution_count": 139,
   "metadata": {},
   "outputs": [
    {
     "name": "stdout",
     "output_type": "stream",
     "text": [
      "[array([[ 1,  2,  3,  4,  5,  6],\n",
      "       [ 7,  8,  9, 10, 11, 12]]), array([[13, 14, 15, 16, 17, 18],\n",
      "       [19, 20, 21, 22, 23, 24]])]\n"
     ]
    }
   ],
   "source": [
    "print(np.split(a, 2, axis=0))"
   ]
  },
  {
   "cell_type": "code",
   "execution_count": 141,
   "metadata": {},
   "outputs": [
    {
     "name": "stdout",
     "output_type": "stream",
     "text": [
      "[array([[1, 2, 3, 4, 5, 6]]), array([[ 7,  8,  9, 10, 11, 12]]), array([[13, 14, 15, 16, 17, 18]]), array([[19, 20, 21, 22, 23, 24]])]\n"
     ]
    }
   ],
   "source": [
    "print(np.split(a, 4, axis=0))\n"
   ]
  },
  {
   "cell_type": "code",
   "execution_count": 142,
   "metadata": {},
   "outputs": [
    {
     "name": "stdout",
     "output_type": "stream",
     "text": [
      "[array([[ 1,  2,  3],\n",
      "       [ 7,  8,  9],\n",
      "       [13, 14, 15],\n",
      "       [19, 20, 21]]), array([[ 4,  5,  6],\n",
      "       [10, 11, 12],\n",
      "       [16, 17, 18],\n",
      "       [22, 23, 24]])]\n"
     ]
    }
   ],
   "source": [
    "print(np.split(a, 2, axis=1))\n"
   ]
  },
  {
   "cell_type": "code",
   "execution_count": 144,
   "metadata": {},
   "outputs": [
    {
     "name": "stdout",
     "output_type": "stream",
     "text": [
      "1\n",
      "24\n",
      "12.5\n",
      "6.922186552431729\n",
      "300\n",
      "12.5\n"
     ]
    }
   ],
   "source": [
    "print(a.min())\n",
    "print(a.max())\n",
    "print(a.mean())\n",
    "print(a.std())\n",
    "print(a.sum())\n",
    "print(np.median(a))"
   ]
  },
  {
   "cell_type": "code",
   "execution_count": 145,
   "metadata": {},
   "outputs": [
    {
     "name": "stdout",
     "output_type": "stream",
     "text": [
      "28\n"
     ]
    }
   ],
   "source": [
    "number = np.random.randint(100)\n",
    "print(number)"
   ]
  },
  {
   "cell_type": "code",
   "execution_count": 147,
   "metadata": {},
   "outputs": [
    {
     "name": "stdout",
     "output_type": "stream",
     "text": [
      "[[[84 59 49 78]\n",
      "  [ 8 49 75 83]\n",
      "  [44 62 43 93]]\n",
      "\n",
      " [[28 47 99 99]\n",
      "  [48 18 40 59]\n",
      "  [60  1 70 72]]]\n"
     ]
    }
   ],
   "source": [
    "numbers = np.random.randint(100, size=(2,3,4))\n",
    "print(numbers)"
   ]
  },
  {
   "cell_type": "code",
   "execution_count": 148,
   "metadata": {},
   "outputs": [
    {
     "name": "stdout",
     "output_type": "stream",
     "text": [
      "[[[1 0 0 1]\n",
      "  [1 1 0 1]\n",
      "  [1 0 0 1]]\n",
      "\n",
      " [[0 0 1 1]\n",
      "  [0 1 0 0]\n",
      "  [0 0 0 0]]]\n"
     ]
    }
   ],
   "source": [
    "numbers = np.random.randint(2, size=(2,3,4))\n",
    "print(numbers)"
   ]
  },
  {
   "cell_type": "code",
   "execution_count": 150,
   "metadata": {},
   "outputs": [
    {
     "name": "stdout",
     "output_type": "stream",
     "text": [
      "[[[98 95 96 99]\n",
      "  [91 91 98 92]\n",
      "  [90 98 94 90]]\n",
      "\n",
      " [[94 90 91 95]\n",
      "  [96 95 98 98]\n",
      "  [97 96 98 99]]]\n"
     ]
    }
   ],
   "source": [
    "numbers = np.random.randint(90,100, size=(2,3,4))\n",
    "print(numbers)"
   ]
  },
  {
   "cell_type": "code",
   "execution_count": 151,
   "metadata": {},
   "outputs": [
    {
     "name": "stdout",
     "output_type": "stream",
     "text": [
      "[[5 7 7 5 3 4 5 6 7 4]\n",
      " [5 4 3 2 5 5 7 8 5 3]\n",
      " [7 5 2 5 7 5 6 5 7 6]\n",
      " [4 5 5 6 4 4 4 3 7 7]\n",
      " [4 6 5 7 4 2 5 6 5 4]]\n"
     ]
    }
   ],
   "source": [
    "numbers = np.random.binomial(10, p=0.5, size=(5,10))\n",
    "print(numbers)"
   ]
  },
  {
   "cell_type": "code",
   "execution_count": 152,
   "metadata": {},
   "outputs": [
    {
     "name": "stdout",
     "output_type": "stream",
     "text": [
      "[[175.82350854 154.99017991 153.85559979 185.10125329 186.47847394\n",
      "  172.0374158  167.72237827 161.74032259 177.50612998 169.51551683]\n",
      " [145.4109128  170.75548824 145.57598421 171.77867863 169.74362787\n",
      "  191.90903418 159.76667409 174.23203525 174.49077205 173.95815595]\n",
      " [176.53258196 172.52545226 148.84713645 178.59455012 202.72521317\n",
      "  171.04736087 168.79641692 139.82541345 168.82679976 192.20319458]\n",
      " [177.5184499  174.4033249  165.21184576 154.99298681 159.73443992\n",
      "  171.46698194 161.79249262 190.86964158 174.61156063 170.27747758]\n",
      " [170.45986018 165.27123477 166.30399918 181.76388139 198.83890444\n",
      "  149.26628032 157.93437921 178.18790379 165.86322477 176.20310947]]\n"
     ]
    }
   ],
   "source": [
    "numbers = np.random.normal(loc=170, scale=15, size=(5,10))\n",
    "print(numbers)"
   ]
  },
  {
   "cell_type": "code",
   "execution_count": 156,
   "metadata": {},
   "outputs": [
    {
     "name": "stdout",
     "output_type": "stream",
     "text": [
      "[[50 50 50 30 20 30 50 10 30 10]\n",
      " [40 30 10 30 50 20 40 10 40 20]\n",
      " [20 20 20 30 30 20 30 40 50 40]\n",
      " [50 20 30 40 50 40 50 50 10 50]\n",
      " [40 40 50 20 50 20 40 20 30 10]]\n"
     ]
    }
   ],
   "source": [
    "numbers = np.random.choice([10,20,30,40,50], size=(5,10))\n",
    "print(numbers)"
   ]
  },
  {
   "cell_type": "code",
   "execution_count": 157,
   "metadata": {},
   "outputs": [
    {
     "data": {
      "text/plain": [
       "array([[ 1,  2,  3,  4,  5,  6],\n",
       "       [ 7,  8,  9, 10, 11, 12],\n",
       "       [13, 14, 15, 16, 17, 18],\n",
       "       [19, 20, 21, 22, 23, 24]])"
      ]
     },
     "execution_count": 157,
     "metadata": {},
     "output_type": "execute_result"
    }
   ],
   "source": [
    "a"
   ]
  },
  {
   "cell_type": "code",
   "execution_count": 158,
   "metadata": {},
   "outputs": [],
   "source": [
    "np.save(\"myarray.npy\", a)"
   ]
  },
  {
   "cell_type": "code",
   "execution_count": 159,
   "metadata": {},
   "outputs": [],
   "source": [
    "a = np.load(\"myarray.npy\")"
   ]
  },
  {
   "cell_type": "code",
   "execution_count": 160,
   "metadata": {},
   "outputs": [],
   "source": [
    "np.savetxt(\"myarray.csv\", a, delimiter=\",\")\n"
   ]
  },
  {
   "cell_type": "code",
   "execution_count": 164,
   "metadata": {},
   "outputs": [
    {
     "name": "stdout",
     "output_type": "stream",
     "text": [
      "[[ 1.  2.  3.  4.  5.  6.]\n",
      " [ 7.  8.  9. 10. 11. 12.]\n",
      " [13. 14. 15. 16. 17. 18.]\n",
      " [19. 20. 21. 22. 23. 24.]]\n"
     ]
    }
   ],
   "source": [
    "a = np.loadtxt(\"myarray.csv\", delimiter=\",\")\n",
    "print(a)"
   ]
  },
  {
   "cell_type": "code",
   "execution_count": null,
   "metadata": {},
   "outputs": [],
   "source": []
  }
 ],
 "metadata": {
  "kernelspec": {
   "display_name": "Python 3",
   "language": "python",
   "name": "python3"
  },
  "language_info": {
   "codemirror_mode": {
    "name": "ipython",
    "version": 3
   },
   "file_extension": ".py",
   "mimetype": "text/x-python",
   "name": "python",
   "nbconvert_exporter": "python",
   "pygments_lexer": "ipython3",
   "version": "3.11.9"
  }
 },
 "nbformat": 4,
 "nbformat_minor": 2
}
